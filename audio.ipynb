{
  "cells": [
    {
      "cell_type": "markdown",
      "metadata": {
        "id": "view-in-github",
        "colab_type": "text"
      },
      "source": [
        "<a href=\"https://colab.research.google.com/github/Sankeetha-Elancheliyan/Emotion-detection-using-Speech/blob/main/audio.ipynb\" target=\"_parent\"><img src=\"https://colab.research.google.com/assets/colab-badge.svg\" alt=\"Open In Colab\"/></a>"
      ]
    },
    {
      "cell_type": "code",
      "execution_count": null,
      "metadata": {
        "colab": {
          "base_uri": "https://localhost:8080/"
        },
        "id": "SpLU9pDjeny2",
        "outputId": "1fbfdd15-36ff-49fe-ea0d-24d2da5f1262"
      },
      "outputs": [
        {
          "output_type": "stream",
          "name": "stdout",
          "text": [
            "Looking in indexes: https://pypi.org/simple, https://us-python.pkg.dev/colab-wheels/public/simple/\n",
            "Collecting python_speech_features\n",
            "  Downloading python_speech_features-0.6.tar.gz (5.6 kB)\n",
            "  Preparing metadata (setup.py) ... \u001b[?25l\u001b[?25hdone\n",
            "Building wheels for collected packages: python_speech_features\n",
            "  Building wheel for python_speech_features (setup.py) ... \u001b[?25l\u001b[?25hdone\n",
            "  Created wheel for python_speech_features: filename=python_speech_features-0.6-py3-none-any.whl size=5889 sha256=0bb1b5a02596732b4ba64a11145ff9116930212867fc32f63c5eecd7269104ee\n",
            "  Stored in directory: /root/.cache/pip/wheels/5b/60/87/28af2605138deac93d162904df42b6fdda1dab9b8757c62aa3\n",
            "Successfully built python_speech_features\n",
            "Installing collected packages: python_speech_features\n",
            "Successfully installed python_speech_features-0.6\n",
            "Looking in indexes: https://pypi.org/simple, https://us-python.pkg.dev/colab-wheels/public/simple/\n",
            "Collecting noisereduce\n",
            "  Downloading noisereduce-2.0.1-py3-none-any.whl (15 kB)\n",
            "Requirement already satisfied: tqdm in /usr/local/lib/python3.8/dist-packages (from noisereduce) (4.64.1)\n",
            "Requirement already satisfied: matplotlib in /usr/local/lib/python3.8/dist-packages (from noisereduce) (3.2.2)\n",
            "Requirement already satisfied: librosa in /usr/local/lib/python3.8/dist-packages (from noisereduce) (0.8.1)\n",
            "Requirement already satisfied: numpy in /usr/local/lib/python3.8/dist-packages (from noisereduce) (1.21.6)\n",
            "Requirement already satisfied: scipy in /usr/local/lib/python3.8/dist-packages (from noisereduce) (1.7.3)\n",
            "Requirement already satisfied: packaging>=20.0 in /usr/local/lib/python3.8/dist-packages (from librosa->noisereduce) (23.0)\n",
            "Requirement already satisfied: joblib>=0.14 in /usr/local/lib/python3.8/dist-packages (from librosa->noisereduce) (1.2.0)\n",
            "Requirement already satisfied: audioread>=2.0.0 in /usr/local/lib/python3.8/dist-packages (from librosa->noisereduce) (3.0.0)\n",
            "Requirement already satisfied: decorator>=3.0.0 in /usr/local/lib/python3.8/dist-packages (from librosa->noisereduce) (4.4.2)\n",
            "Requirement already satisfied: numba>=0.43.0 in /usr/local/lib/python3.8/dist-packages (from librosa->noisereduce) (0.56.4)\n",
            "Requirement already satisfied: pooch>=1.0 in /usr/local/lib/python3.8/dist-packages (from librosa->noisereduce) (1.6.0)\n",
            "Requirement already satisfied: resampy>=0.2.2 in /usr/local/lib/python3.8/dist-packages (from librosa->noisereduce) (0.4.2)\n",
            "Requirement already satisfied: scikit-learn!=0.19.0,>=0.14.0 in /usr/local/lib/python3.8/dist-packages (from librosa->noisereduce) (1.0.2)\n",
            "Requirement already satisfied: soundfile>=0.10.2 in /usr/local/lib/python3.8/dist-packages (from librosa->noisereduce) (0.11.0)\n",
            "Requirement already satisfied: python-dateutil>=2.1 in /usr/local/lib/python3.8/dist-packages (from matplotlib->noisereduce) (2.8.2)\n",
            "Requirement already satisfied: pyparsing!=2.0.4,!=2.1.2,!=2.1.6,>=2.0.1 in /usr/local/lib/python3.8/dist-packages (from matplotlib->noisereduce) (3.0.9)\n",
            "Requirement already satisfied: kiwisolver>=1.0.1 in /usr/local/lib/python3.8/dist-packages (from matplotlib->noisereduce) (1.4.4)\n",
            "Requirement already satisfied: cycler>=0.10 in /usr/local/lib/python3.8/dist-packages (from matplotlib->noisereduce) (0.11.0)\n",
            "Requirement already satisfied: llvmlite<0.40,>=0.39.0dev0 in /usr/local/lib/python3.8/dist-packages (from numba>=0.43.0->librosa->noisereduce) (0.39.1)\n",
            "Requirement already satisfied: importlib-metadata in /usr/local/lib/python3.8/dist-packages (from numba>=0.43.0->librosa->noisereduce) (6.0.0)\n",
            "Requirement already satisfied: setuptools in /usr/local/lib/python3.8/dist-packages (from numba>=0.43.0->librosa->noisereduce) (57.4.0)\n",
            "Requirement already satisfied: appdirs>=1.3.0 in /usr/local/lib/python3.8/dist-packages (from pooch>=1.0->librosa->noisereduce) (1.4.4)\n",
            "Requirement already satisfied: requests>=2.19.0 in /usr/local/lib/python3.8/dist-packages (from pooch>=1.0->librosa->noisereduce) (2.25.1)\n",
            "Requirement already satisfied: six>=1.5 in /usr/local/lib/python3.8/dist-packages (from python-dateutil>=2.1->matplotlib->noisereduce) (1.15.0)\n",
            "Requirement already satisfied: threadpoolctl>=2.0.0 in /usr/local/lib/python3.8/dist-packages (from scikit-learn!=0.19.0,>=0.14.0->librosa->noisereduce) (3.1.0)\n",
            "Requirement already satisfied: cffi>=1.0 in /usr/local/lib/python3.8/dist-packages (from soundfile>=0.10.2->librosa->noisereduce) (1.15.1)\n",
            "Requirement already satisfied: pycparser in /usr/local/lib/python3.8/dist-packages (from cffi>=1.0->soundfile>=0.10.2->librosa->noisereduce) (2.21)\n",
            "Requirement already satisfied: urllib3<1.27,>=1.21.1 in /usr/local/lib/python3.8/dist-packages (from requests>=2.19.0->pooch>=1.0->librosa->noisereduce) (1.24.3)\n",
            "Requirement already satisfied: chardet<5,>=3.0.2 in /usr/local/lib/python3.8/dist-packages (from requests>=2.19.0->pooch>=1.0->librosa->noisereduce) (4.0.0)\n",
            "Requirement already satisfied: idna<3,>=2.5 in /usr/local/lib/python3.8/dist-packages (from requests>=2.19.0->pooch>=1.0->librosa->noisereduce) (2.10)\n",
            "Requirement already satisfied: certifi>=2017.4.17 in /usr/local/lib/python3.8/dist-packages (from requests>=2.19.0->pooch>=1.0->librosa->noisereduce) (2022.12.7)\n",
            "Requirement already satisfied: zipp>=0.5 in /usr/local/lib/python3.8/dist-packages (from importlib-metadata->numba>=0.43.0->librosa->noisereduce) (3.12.1)\n",
            "Installing collected packages: noisereduce\n",
            "Successfully installed noisereduce-2.0.1\n"
          ]
        }
      ],
      "source": [
        "#Install all the Reqiuired Libraries and Packages \n",
        "import os\n",
        "import glob\n",
        "from tqdm import tqdm\n",
        "import pandas as pd\n",
        "import numpy as np\n",
        "import matplotlib.pyplot as plt\n",
        "from scipy.io import wavfile\n",
        "!pip install python_speech_features\n",
        "from python_speech_features import mfcc , logfbank\n",
        "import librosa as lr\n",
        "import os, glob, pickle\n",
        "import librosa\n",
        "from scipy import signal\n",
        "!pip install noisereduce\n",
        "import noisereduce as nr\n",
        "from glob import glob\n",
        "import librosa\n",
        "get_ipython().magic('matplotlib inline')\n",
        "#All the Required Packages and Libraies are installed.\n",
        "import soundfile\n",
        "from tensorflow.keras.layers import Conv2D,MaxPool2D, Flatten, LSTM\n",
        "from keras.layers import Dropout,Dense,TimeDistributed\n",
        "from keras.models import Sequential\n",
        "from keras.utils import to_categorical \n",
        "from sklearn.utils.class_weight import compute_class_weight\n",
        "from sklearn.model_selection import train_test_split\n",
        "from sklearn.neural_network import MLPClassifier\n",
        "from sklearn.metrics import accuracy_score"
      ]
    },
    {
      "cell_type": "code",
      "execution_count": null,
      "metadata": {
        "colab": {
          "base_uri": "https://localhost:8080/"
        },
        "id": "A7Sm2sOsr2tl",
        "outputId": "07dd53af-3ea9-4cfa-c554-f3ecf00aae1c"
      },
      "outputs": [
        {
          "output_type": "stream",
          "name": "stdout",
          "text": [
            "Mounted at /content/gdrive\n"
          ]
        }
      ],
      "source": [
        "from google.colab import drive\n",
        "drive.mount(\"/content/gdrive\")"
      ]
    },
    {
      "cell_type": "markdown",
      "source": [
        "DATA SETS ARE UPLOADED IN THE GOOGLE DRIVE PATH NAME IS GIVEN"
      ],
      "metadata": {
        "id": "87YWISNzh_RP"
      }
    },
    {
      "cell_type": "code",
      "execution_count": null,
      "metadata": {
        "colab": {
          "base_uri": "https://localhost:8080/"
        },
        "id": "qTv5Tk59tWY4",
        "outputId": "9e0d8a9f-30ac-46b6-e084-f92b17fe98b5"
      },
      "outputs": [
        {
          "output_type": "execute_result",
          "data": {
            "text/plain": [
              "1380"
            ]
          },
          "metadata": {},
          "execution_count": 3
        }
      ],
      "source": [
        "os.listdir(path='/content/gdrive/My Drive/audio')\n",
        "def getListOfFiles(dirName):\n",
        "    listOfFile=os.listdir(dirName)\n",
        "    allFiles=list()\n",
        "    for entry in listOfFile:\n",
        "        fullPath=os.path.join(dirName, entry)\n",
        "        if os.path.isdir(fullPath):\n",
        "            allFiles=allFiles + getListOfFiles(fullPath)\n",
        "        else:\n",
        "            allFiles.append(fullPath)\n",
        "    return allFiles\n",
        "\n",
        "dirName = '/content/gdrive/My Drive/audio'\n",
        "listOfFiles = getListOfFiles(dirName)\n",
        "len(listOfFiles)"
      ]
    },
    {
      "cell_type": "code",
      "execution_count": null,
      "metadata": {
        "colab": {
          "base_uri": "https://localhost:8080/",
          "height": 1000
        },
        "id": "gkGaqKm6tlXm",
        "outputId": "b670946b-9154-43c6-d02e-bb079466597e"
      },
      "outputs": [
        {
          "output_type": "stream",
          "name": "stdout",
          "text": [
            "Looking in indexes: https://pypi.org/simple, https://us-python.pkg.dev/colab-wheels/public/simple/\n",
            "Collecting SpeechRecognition\n",
            "  Downloading SpeechRecognition-3.9.0-py2.py3-none-any.whl (32.8 MB)\n",
            "\u001b[2K     \u001b[90m━━━━━━━━━━━━━━━━━━━━━━━━━━━━━━━━━━━━━━━━\u001b[0m \u001b[32m32.8/32.8 MB\u001b[0m \u001b[31m20.1 MB/s\u001b[0m eta \u001b[36m0:00:00\u001b[0m\n",
            "\u001b[?25hCollecting pydub\n",
            "  Downloading pydub-0.25.1-py2.py3-none-any.whl (32 kB)\n",
            "Collecting requests>=2.26.0\n",
            "  Downloading requests-2.28.2-py3-none-any.whl (62 kB)\n",
            "\u001b[2K     \u001b[90m━━━━━━━━━━━━━━━━━━━━━━━━━━━━━━━━━━━━━━━━\u001b[0m \u001b[32m62.8/62.8 KB\u001b[0m \u001b[31m7.2 MB/s\u001b[0m eta \u001b[36m0:00:00\u001b[0m\n",
            "\u001b[?25hRequirement already satisfied: urllib3<1.27,>=1.21.1 in /usr/local/lib/python3.8/dist-packages (from requests>=2.26.0->SpeechRecognition) (1.24.3)\n",
            "Requirement already satisfied: idna<4,>=2.5 in /usr/local/lib/python3.8/dist-packages (from requests>=2.26.0->SpeechRecognition) (2.10)\n",
            "Requirement already satisfied: charset-normalizer<4,>=2 in /usr/local/lib/python3.8/dist-packages (from requests>=2.26.0->SpeechRecognition) (2.1.1)\n",
            "Requirement already satisfied: certifi>=2017.4.17 in /usr/local/lib/python3.8/dist-packages (from requests>=2.26.0->SpeechRecognition) (2022.12.7)\n",
            "Installing collected packages: pydub, requests, SpeechRecognition\n",
            "  Attempting uninstall: requests\n",
            "    Found existing installation: requests 2.25.1\n",
            "    Uninstalling requests-2.25.1:\n",
            "      Successfully uninstalled requests-2.25.1\n",
            "Successfully installed SpeechRecognition-3.9.0 pydub-0.25.1 requests-2.28.2\n"
          ]
        },
        {
          "output_type": "display_data",
          "data": {
            "application/vnd.colab-display-data+json": {
              "pip_warning": {
                "packages": [
                  "requests"
                ]
              }
            }
          },
          "metadata": {}
        },
        {
          "output_type": "stream",
          "name": "stdout",
          "text": [
            "result2:\n",
            "{   'alternative': [   {   'confidence': 0.97219545,\n",
            "                           'transcript': 'kids are talking by the door'}],\n",
            "    'final': True}\n",
            "kids are talking by the door\n",
            "result2:\n",
            "{   'alternative': [   {   'confidence': 0.97219545,\n",
            "                           'transcript': 'kids are talking by the door'}],\n",
            "    'final': True}\n",
            "kids are talking by the door\n",
            "result2:\n",
            "{   'alternative': [   {   'confidence': 0.97219545,\n",
            "                           'transcript': 'kids are talking by the door'},\n",
            "                       {'transcript': 'kids are talking buy the door'}],\n",
            "    'final': True}\n",
            "kids are talking by the door\n",
            "result2:\n",
            "{   'alternative': [   {   'confidence': 0.97219545,\n",
            "                           'transcript': 'dogs are sitting by the door'}],\n",
            "    'final': True}\n",
            "dogs are sitting by the door\n",
            "result2:\n",
            "{   'alternative': [   {   'confidence': 0.97219545,\n",
            "                           'transcript': 'kids are talking by the door'}],\n",
            "    'final': True}\n",
            "kids are talking by the door\n",
            "result2:\n",
            "{   'alternative': [   {   'confidence': 0.97219545,\n",
            "                           'transcript': 'dogs are sitting by the door'}],\n",
            "    'final': True}\n",
            "dogs are sitting by the door\n",
            "result2:\n",
            "{   'alternative': [   {   'confidence': 0.97219545,\n",
            "                           'transcript': 'kids are talking by the door'},\n",
            "                       {'transcript': 'kids are talking about the door'},\n",
            "                       {'transcript': 'kids were talking by the door'}],\n",
            "    'final': True}\n",
            "kids are talking by the door\n",
            "result2:\n",
            "{   'alternative': [   {   'confidence': 0.97219545,\n",
            "                           'transcript': 'kids are talking by the door'}],\n",
            "    'final': True}\n",
            "kids are talking by the door\n",
            "result2:\n",
            "{   'alternative': [   {   'confidence': 0.97219545,\n",
            "                           'transcript': 'dogs are sitting by the door'}],\n",
            "    'final': True}\n",
            "dogs are sitting by the door\n",
            "result2:\n",
            "{   'alternative': [   {   'confidence': 0.97219545,\n",
            "                           'transcript': 'kids are talking by the door'},\n",
            "                       {'transcript': 'kids are talking about the door'}],\n",
            "    'final': True}\n",
            "kids are talking by the door\n",
            "result2:\n",
            "{   'alternative': [   {   'confidence': 0.97219545,\n",
            "                           'transcript': 'kids are talking by the door'}],\n",
            "    'final': True}\n",
            "kids are talking by the door\n",
            "result2:\n",
            "{   'alternative': [   {   'confidence': 0.97219545,\n",
            "                           'transcript': 'dogs are sitting by the door'}],\n",
            "    'final': True}\n",
            "dogs are sitting by the door\n",
            "result2:\n",
            "{   'alternative': [   {   'confidence': 0.97219545,\n",
            "                           'transcript': 'kids are talking by the door'}],\n",
            "    'final': True}\n",
            "kids are talking by the door\n",
            "result2:\n",
            "{   'alternative': [   {   'confidence': 0.97219545,\n",
            "                           'transcript': 'dogs are sitting by the door'}],\n",
            "    'final': True}\n",
            "dogs are sitting by the door\n",
            "result2:\n",
            "{   'alternative': [   {   'confidence': 0.97219545,\n",
            "                           'transcript': 'kids are talking by the door'}],\n",
            "    'final': True}\n",
            "kids are talking by the door\n",
            "result2:\n",
            "{   'alternative': [   {   'confidence': 0.97219545,\n",
            "                           'transcript': 'dogs are sitting by the door'}],\n",
            "    'final': True}\n",
            "dogs are sitting by the door\n",
            "result2:\n",
            "{   'alternative': [   {   'confidence': 0.97219545,\n",
            "                           'transcript': 'kids are talking by the door'}],\n",
            "    'final': True}\n",
            "kids are talking by the door\n"
          ]
        },
        {
          "output_type": "error",
          "ename": "KeyboardInterrupt",
          "evalue": "ignored",
          "traceback": [
            "\u001b[0;31m---------------------------------------------------------------------------\u001b[0m",
            "\u001b[0;31mKeyboardInterrupt\u001b[0m                         Traceback (most recent call last)",
            "\u001b[0;32m<ipython-input-41-9c43f8924829>\u001b[0m in \u001b[0;36m<module>\u001b[0;34m\u001b[0m\n\u001b[1;32m      8\u001b[0m \u001b[0;32mfor\u001b[0m \u001b[0mfile\u001b[0m \u001b[0;32min\u001b[0m \u001b[0mrange\u001b[0m\u001b[0;34m(\u001b[0m\u001b[0;36m0\u001b[0m \u001b[0;34m,\u001b[0m \u001b[0mlen\u001b[0m\u001b[0;34m(\u001b[0m\u001b[0mlistOfFiles\u001b[0m\u001b[0;34m)\u001b[0m \u001b[0;34m,\u001b[0m \u001b[0;36m1\u001b[0m\u001b[0;34m)\u001b[0m\u001b[0;34m:\u001b[0m\u001b[0;34m\u001b[0m\u001b[0;34m\u001b[0m\u001b[0m\n\u001b[1;32m      9\u001b[0m     \u001b[0;32mwith\u001b[0m \u001b[0msr\u001b[0m\u001b[0;34m.\u001b[0m\u001b[0mAudioFile\u001b[0m\u001b[0;34m(\u001b[0m\u001b[0mlistOfFiles\u001b[0m\u001b[0;34m[\u001b[0m\u001b[0mfile\u001b[0m\u001b[0;34m]\u001b[0m\u001b[0;34m)\u001b[0m \u001b[0;32mas\u001b[0m \u001b[0msource\u001b[0m\u001b[0;34m:\u001b[0m\u001b[0;34m\u001b[0m\u001b[0;34m\u001b[0m\u001b[0m\n\u001b[0;32m---> 10\u001b[0;31m         \u001b[0maudio\u001b[0m \u001b[0;34m=\u001b[0m \u001b[0mr\u001b[0m\u001b[0;34m.\u001b[0m\u001b[0mlisten\u001b[0m\u001b[0;34m(\u001b[0m\u001b[0msource\u001b[0m\u001b[0;34m)\u001b[0m\u001b[0;34m\u001b[0m\u001b[0;34m\u001b[0m\u001b[0m\n\u001b[0m\u001b[1;32m     11\u001b[0m         \u001b[0;32mtry\u001b[0m\u001b[0;34m:\u001b[0m\u001b[0;34m\u001b[0m\u001b[0;34m\u001b[0m\u001b[0m\n\u001b[1;32m     12\u001b[0m             \u001b[0mtext\u001b[0m \u001b[0;34m=\u001b[0m \u001b[0mr\u001b[0m\u001b[0;34m.\u001b[0m\u001b[0mrecognize_google\u001b[0m\u001b[0;34m(\u001b[0m\u001b[0maudio\u001b[0m\u001b[0;34m)\u001b[0m\u001b[0;34m\u001b[0m\u001b[0;34m\u001b[0m\u001b[0m\n",
            "\u001b[0;32m/usr/local/lib/python3.8/dist-packages/speech_recognition/__init__.py\u001b[0m in \u001b[0;36mlisten\u001b[0;34m(self, source, timeout, phrase_time_limit, snowboy_configuration)\u001b[0m\n\u001b[1;32m    707\u001b[0m                     \u001b[0;32mbreak\u001b[0m\u001b[0;34m\u001b[0m\u001b[0;34m\u001b[0m\u001b[0m\n\u001b[1;32m    708\u001b[0m \u001b[0;34m\u001b[0m\u001b[0m\n\u001b[0;32m--> 709\u001b[0;31m                 \u001b[0mbuffer\u001b[0m \u001b[0;34m=\u001b[0m \u001b[0msource\u001b[0m\u001b[0;34m.\u001b[0m\u001b[0mstream\u001b[0m\u001b[0;34m.\u001b[0m\u001b[0mread\u001b[0m\u001b[0;34m(\u001b[0m\u001b[0msource\u001b[0m\u001b[0;34m.\u001b[0m\u001b[0mCHUNK\u001b[0m\u001b[0;34m)\u001b[0m\u001b[0;34m\u001b[0m\u001b[0;34m\u001b[0m\u001b[0m\n\u001b[0m\u001b[1;32m    710\u001b[0m                 \u001b[0;32mif\u001b[0m \u001b[0mlen\u001b[0m\u001b[0;34m(\u001b[0m\u001b[0mbuffer\u001b[0m\u001b[0;34m)\u001b[0m \u001b[0;34m==\u001b[0m \u001b[0;36m0\u001b[0m\u001b[0;34m:\u001b[0m \u001b[0;32mbreak\u001b[0m  \u001b[0;31m# reached end of the stream\u001b[0m\u001b[0;34m\u001b[0m\u001b[0;34m\u001b[0m\u001b[0m\n\u001b[1;32m    711\u001b[0m                 \u001b[0mframes\u001b[0m\u001b[0;34m.\u001b[0m\u001b[0mappend\u001b[0m\u001b[0;34m(\u001b[0m\u001b[0mbuffer\u001b[0m\u001b[0;34m)\u001b[0m\u001b[0;34m\u001b[0m\u001b[0;34m\u001b[0m\u001b[0m\n",
            "\u001b[0;32m/usr/local/lib/python3.8/dist-packages/speech_recognition/__init__.py\u001b[0m in \u001b[0;36mread\u001b[0;34m(self, size)\u001b[0m\n\u001b[1;32m    317\u001b[0m \u001b[0;34m\u001b[0m\u001b[0m\n\u001b[1;32m    318\u001b[0m         \u001b[0;32mdef\u001b[0m \u001b[0mread\u001b[0m\u001b[0;34m(\u001b[0m\u001b[0mself\u001b[0m\u001b[0;34m,\u001b[0m \u001b[0msize\u001b[0m\u001b[0;34m=\u001b[0m\u001b[0;34m-\u001b[0m\u001b[0;36m1\u001b[0m\u001b[0;34m)\u001b[0m\u001b[0;34m:\u001b[0m\u001b[0;34m\u001b[0m\u001b[0;34m\u001b[0m\u001b[0m\n\u001b[0;32m--> 319\u001b[0;31m             \u001b[0mbuffer\u001b[0m \u001b[0;34m=\u001b[0m \u001b[0mself\u001b[0m\u001b[0;34m.\u001b[0m\u001b[0maudio_reader\u001b[0m\u001b[0;34m.\u001b[0m\u001b[0mreadframes\u001b[0m\u001b[0;34m(\u001b[0m\u001b[0mself\u001b[0m\u001b[0;34m.\u001b[0m\u001b[0maudio_reader\u001b[0m\u001b[0;34m.\u001b[0m\u001b[0mgetnframes\u001b[0m\u001b[0;34m(\u001b[0m\u001b[0;34m)\u001b[0m \u001b[0;32mif\u001b[0m \u001b[0msize\u001b[0m \u001b[0;34m==\u001b[0m \u001b[0;34m-\u001b[0m\u001b[0;36m1\u001b[0m \u001b[0;32melse\u001b[0m \u001b[0msize\u001b[0m\u001b[0;34m)\u001b[0m\u001b[0;34m\u001b[0m\u001b[0;34m\u001b[0m\u001b[0m\n\u001b[0m\u001b[1;32m    320\u001b[0m             \u001b[0;32mif\u001b[0m \u001b[0;32mnot\u001b[0m \u001b[0misinstance\u001b[0m\u001b[0;34m(\u001b[0m\u001b[0mbuffer\u001b[0m\u001b[0;34m,\u001b[0m \u001b[0mbytes\u001b[0m\u001b[0;34m)\u001b[0m\u001b[0;34m:\u001b[0m \u001b[0mbuffer\u001b[0m \u001b[0;34m=\u001b[0m \u001b[0;34mb\"\"\u001b[0m  \u001b[0;31m# workaround for https://bugs.python.org/issue24608\u001b[0m\u001b[0;34m\u001b[0m\u001b[0;34m\u001b[0m\u001b[0m\n\u001b[1;32m    321\u001b[0m \u001b[0;34m\u001b[0m\u001b[0m\n",
            "\u001b[0;32m/usr/lib/python3.8/wave.py\u001b[0m in \u001b[0;36mreadframes\u001b[0;34m(self, nframes)\u001b[0m\n\u001b[1;32m    241\u001b[0m         \u001b[0;32mif\u001b[0m \u001b[0mnframes\u001b[0m \u001b[0;34m==\u001b[0m \u001b[0;36m0\u001b[0m\u001b[0;34m:\u001b[0m\u001b[0;34m\u001b[0m\u001b[0;34m\u001b[0m\u001b[0m\n\u001b[1;32m    242\u001b[0m             \u001b[0;32mreturn\u001b[0m \u001b[0;34mb''\u001b[0m\u001b[0;34m\u001b[0m\u001b[0;34m\u001b[0m\u001b[0m\n\u001b[0;32m--> 243\u001b[0;31m         \u001b[0mdata\u001b[0m \u001b[0;34m=\u001b[0m \u001b[0mself\u001b[0m\u001b[0;34m.\u001b[0m\u001b[0m_data_chunk\u001b[0m\u001b[0;34m.\u001b[0m\u001b[0mread\u001b[0m\u001b[0;34m(\u001b[0m\u001b[0mnframes\u001b[0m \u001b[0;34m*\u001b[0m \u001b[0mself\u001b[0m\u001b[0;34m.\u001b[0m\u001b[0m_framesize\u001b[0m\u001b[0;34m)\u001b[0m\u001b[0;34m\u001b[0m\u001b[0;34m\u001b[0m\u001b[0m\n\u001b[0m\u001b[1;32m    244\u001b[0m         \u001b[0;32mif\u001b[0m \u001b[0mself\u001b[0m\u001b[0;34m.\u001b[0m\u001b[0m_sampwidth\u001b[0m \u001b[0;34m!=\u001b[0m \u001b[0;36m1\u001b[0m \u001b[0;32mand\u001b[0m \u001b[0msys\u001b[0m\u001b[0;34m.\u001b[0m\u001b[0mbyteorder\u001b[0m \u001b[0;34m==\u001b[0m \u001b[0;34m'big'\u001b[0m\u001b[0;34m:\u001b[0m\u001b[0;34m\u001b[0m\u001b[0;34m\u001b[0m\u001b[0m\n\u001b[1;32m    245\u001b[0m             \u001b[0mdata\u001b[0m \u001b[0;34m=\u001b[0m \u001b[0maudioop\u001b[0m\u001b[0;34m.\u001b[0m\u001b[0mbyteswap\u001b[0m\u001b[0;34m(\u001b[0m\u001b[0mdata\u001b[0m\u001b[0;34m,\u001b[0m \u001b[0mself\u001b[0m\u001b[0;34m.\u001b[0m\u001b[0m_sampwidth\u001b[0m\u001b[0;34m)\u001b[0m\u001b[0;34m\u001b[0m\u001b[0;34m\u001b[0m\u001b[0m\n",
            "\u001b[0;32m/usr/lib/python3.8/chunk.py\u001b[0m in \u001b[0;36mread\u001b[0;34m(self, size)\u001b[0m\n\u001b[1;32m    134\u001b[0m         \u001b[0;32mif\u001b[0m \u001b[0msize\u001b[0m \u001b[0;34m>\u001b[0m \u001b[0mself\u001b[0m\u001b[0;34m.\u001b[0m\u001b[0mchunksize\u001b[0m \u001b[0;34m-\u001b[0m \u001b[0mself\u001b[0m\u001b[0;34m.\u001b[0m\u001b[0msize_read\u001b[0m\u001b[0;34m:\u001b[0m\u001b[0;34m\u001b[0m\u001b[0;34m\u001b[0m\u001b[0m\n\u001b[1;32m    135\u001b[0m             \u001b[0msize\u001b[0m \u001b[0;34m=\u001b[0m \u001b[0mself\u001b[0m\u001b[0;34m.\u001b[0m\u001b[0mchunksize\u001b[0m \u001b[0;34m-\u001b[0m \u001b[0mself\u001b[0m\u001b[0;34m.\u001b[0m\u001b[0msize_read\u001b[0m\u001b[0;34m\u001b[0m\u001b[0;34m\u001b[0m\u001b[0m\n\u001b[0;32m--> 136\u001b[0;31m         \u001b[0mdata\u001b[0m \u001b[0;34m=\u001b[0m \u001b[0mself\u001b[0m\u001b[0;34m.\u001b[0m\u001b[0mfile\u001b[0m\u001b[0;34m.\u001b[0m\u001b[0mread\u001b[0m\u001b[0;34m(\u001b[0m\u001b[0msize\u001b[0m\u001b[0;34m)\u001b[0m\u001b[0;34m\u001b[0m\u001b[0;34m\u001b[0m\u001b[0m\n\u001b[0m\u001b[1;32m    137\u001b[0m         \u001b[0mself\u001b[0m\u001b[0;34m.\u001b[0m\u001b[0msize_read\u001b[0m \u001b[0;34m=\u001b[0m \u001b[0mself\u001b[0m\u001b[0;34m.\u001b[0m\u001b[0msize_read\u001b[0m \u001b[0;34m+\u001b[0m \u001b[0mlen\u001b[0m\u001b[0;34m(\u001b[0m\u001b[0mdata\u001b[0m\u001b[0;34m)\u001b[0m\u001b[0;34m\u001b[0m\u001b[0;34m\u001b[0m\u001b[0m\n\u001b[1;32m    138\u001b[0m         \u001b[0;32mif\u001b[0m \u001b[0mself\u001b[0m\u001b[0;34m.\u001b[0m\u001b[0msize_read\u001b[0m \u001b[0;34m==\u001b[0m \u001b[0mself\u001b[0m\u001b[0;34m.\u001b[0m\u001b[0mchunksize\u001b[0m \u001b[0;32mand\u001b[0m\u001b[0;31m \u001b[0m\u001b[0;31m\\\u001b[0m\u001b[0;34m\u001b[0m\u001b[0;34m\u001b[0m\u001b[0m\n",
            "\u001b[0;32m/usr/lib/python3.8/chunk.py\u001b[0m in \u001b[0;36mread\u001b[0;34m(self, size)\u001b[0m\n\u001b[1;32m    134\u001b[0m         \u001b[0;32mif\u001b[0m \u001b[0msize\u001b[0m \u001b[0;34m>\u001b[0m \u001b[0mself\u001b[0m\u001b[0;34m.\u001b[0m\u001b[0mchunksize\u001b[0m \u001b[0;34m-\u001b[0m \u001b[0mself\u001b[0m\u001b[0;34m.\u001b[0m\u001b[0msize_read\u001b[0m\u001b[0;34m:\u001b[0m\u001b[0;34m\u001b[0m\u001b[0;34m\u001b[0m\u001b[0m\n\u001b[1;32m    135\u001b[0m             \u001b[0msize\u001b[0m \u001b[0;34m=\u001b[0m \u001b[0mself\u001b[0m\u001b[0;34m.\u001b[0m\u001b[0mchunksize\u001b[0m \u001b[0;34m-\u001b[0m \u001b[0mself\u001b[0m\u001b[0;34m.\u001b[0m\u001b[0msize_read\u001b[0m\u001b[0;34m\u001b[0m\u001b[0;34m\u001b[0m\u001b[0m\n\u001b[0;32m--> 136\u001b[0;31m         \u001b[0mdata\u001b[0m \u001b[0;34m=\u001b[0m \u001b[0mself\u001b[0m\u001b[0;34m.\u001b[0m\u001b[0mfile\u001b[0m\u001b[0;34m.\u001b[0m\u001b[0mread\u001b[0m\u001b[0;34m(\u001b[0m\u001b[0msize\u001b[0m\u001b[0;34m)\u001b[0m\u001b[0;34m\u001b[0m\u001b[0;34m\u001b[0m\u001b[0m\n\u001b[0m\u001b[1;32m    137\u001b[0m         \u001b[0mself\u001b[0m\u001b[0;34m.\u001b[0m\u001b[0msize_read\u001b[0m \u001b[0;34m=\u001b[0m \u001b[0mself\u001b[0m\u001b[0;34m.\u001b[0m\u001b[0msize_read\u001b[0m \u001b[0;34m+\u001b[0m \u001b[0mlen\u001b[0m\u001b[0;34m(\u001b[0m\u001b[0mdata\u001b[0m\u001b[0;34m)\u001b[0m\u001b[0;34m\u001b[0m\u001b[0;34m\u001b[0m\u001b[0m\n\u001b[1;32m    138\u001b[0m         \u001b[0;32mif\u001b[0m \u001b[0mself\u001b[0m\u001b[0;34m.\u001b[0m\u001b[0msize_read\u001b[0m \u001b[0;34m==\u001b[0m \u001b[0mself\u001b[0m\u001b[0;34m.\u001b[0m\u001b[0mchunksize\u001b[0m \u001b[0;32mand\u001b[0m\u001b[0;31m \u001b[0m\u001b[0;31m\\\u001b[0m\u001b[0;34m\u001b[0m\u001b[0;34m\u001b[0m\u001b[0m\n",
            "\u001b[0;31mKeyboardInterrupt\u001b[0m: "
          ]
        }
      ],
      "source": [
        "                                       #NOT A MUST RUN THIS CELL\n",
        "#Use the Speech-Recognition API to get the Raw Text from Audio Files, Though Speech Recognition\n",
        "#is less strong for large chunk of files , so used Error Handling , where when it is not be able to \n",
        "#produce the text of a particular Audio File it prints the statement 'error'.Just for understanding Audio\n",
        "!pip install SpeechRecognition pydub\n",
        "import speech_recognition as sr\n",
        "r=sr.Recognizer()\n",
        "for file in range(0 , len(listOfFiles) , 1):\n",
        "    with sr.AudioFile(listOfFiles[file]) as source:\n",
        "        audio = r.listen(source)\n",
        "        try:\n",
        "            text = r.recognize_google(audio)\n",
        "            print(text)\n",
        "        except:\n",
        "            print('error')"
      ]
    },
    {
      "cell_type": "code",
      "execution_count": null,
      "metadata": {
        "id": "k7NLjoxswasQ"
      },
      "outputs": [],
      "source": [
        "#Now Cleaning Step is Performed where:\n",
        "#DOWN SAMPLING OF AUDIO FILES IS DONE  AND PUT MASK OVER IT AND DIRECT INTO CLEAN FOLDER\n",
        "#MASK IS TO REMOVE UNNECESSARY EMPTY VOIVES AROUND THE MAIN AUDIO VOICE \n",
        "def envelope(y , rate, threshold):\n",
        "    mask=[]\n",
        "    y=pd.Series(y).apply(np.abs)\n",
        "    y_mean = y.rolling(window=int(rate/10) ,  min_periods=1 , center = True).mean()\n",
        "    for mean in y_mean:\n",
        "        if mean>threshold:\n",
        "            mask.append(True)\n",
        "        else:\n",
        "            mask.append(False)\n",
        "    return mask"
      ]
    },
    {
      "cell_type": "code",
      "execution_count": null,
      "metadata": {
        "colab": {
          "background_save": true,
          "base_uri": "https://localhost:8080/"
        },
        "id": "s2L77ezxzTSI",
        "outputId": "a5323e45-c8b0-4173-ca8d-2c85bde50679"
      },
      "outputs": [
        {
          "name": "stderr",
          "output_type": "stream",
          "text": [
            "100%|██████████| 1380/1380 [15:37<00:00,  1.47it/s]\n"
          ]
        }
      ],
      "source": [
        "                           #NOT A MUST RUN THIS CELL\n",
        "#The clean Audio Files are redirected to Clean Audio Folder Directory \n",
        "import glob,pickle\n",
        "for file in tqdm(glob.glob(r'/content/gdrive/My Drive/audio//**//*.wav')):\n",
        "    file_name = os.path.basename(file)\n",
        "    signal , rate = librosa.load(file, sr=16000)\n",
        "    mask = envelope(signal,rate, 0.0005)\n",
        "    wavfile.write(filename= r'/content/gdrive/My Drive/cleanAudio//'+str(file_name), rate=rate,data=signal[mask])"
      ]
    },
    {
      "cell_type": "code",
      "execution_count": null,
      "metadata": {
        "id": "AtXq1MFg3w34"
      },
      "outputs": [],
      "source": [
        "#Feature Extraction of Audio Files Function \n",
        "#Extract features (mfcc, chroma, mel) from a sound file\n",
        "def extract_feature(file_name, mfcc, chroma, mel):\n",
        "    with soundfile.SoundFile(file_name) as sound_file:\n",
        "        X = sound_file.read(dtype=\"float32\")\n",
        "        sample_rate=sound_file.samplerate\n",
        "        if chroma:\n",
        "            stft=np.abs(librosa.stft(X))\n",
        "        result=np.array([])\n",
        "        if mfcc:\n",
        "            mfccs=np.mean(librosa.feature.mfcc(y=X, sr=sample_rate, n_mfcc=40).T, axis=0)\n",
        "        result=np.hstack((result, mfccs))\n",
        "        if chroma:\n",
        "            chroma=np.mean(librosa.feature.chroma_stft(S=stft, sr=sample_rate).T,axis=0)\n",
        "        result=np.hstack((result, chroma))\n",
        "        if mel:\n",
        "            mel=np.mean(librosa.feature.melspectrogram(X, sr=sample_rate).T,axis=0)\n",
        "        result=np.hstack((result, mel))\n",
        "    return result"
      ]
    },
    {
      "cell_type": "code",
      "execution_count": null,
      "metadata": {
        "id": "BUPRFZxj30Jb"
      },
      "outputs": [],
      "source": [
        "#Emotions in the RAVDESS dataset to be classified Audio Files based on . \n",
        "emotions={\n",
        "  '01':'neutral',\n",
        "  '02':'calm',\n",
        "  '03':'happy',\n",
        "  '04':'sad',\n",
        "  '05':'angry',\n",
        "  '06':'fearful',\n",
        "  '07':'disgust',\n",
        "  '08':'surprised'\n",
        "}\n",
        "#These are the emotions User wants to observe more :\n",
        "observed_emotions=['calm', 'happy', 'fearful', 'disgust']"
      ]
    },
    {
      "cell_type": "code",
      "execution_count": null,
      "metadata": {
        "id": "-agV2ldI391J"
      },
      "outputs": [],
      "source": [
        "#Load the data and extract features for each sound file\n",
        "from glob import glob\n",
        "import os\n",
        "import glob\n",
        "def load_data(test_size=0.15):\n",
        "    x,y=[],[]\n",
        "    answer = 0\n",
        "    for file in glob.glob(r'/content/gdrive/My Drive/cleanAudio//*.wav'):\n",
        "        file_name=os.path.basename(file)\n",
        "        emotion=emotions[file_name.split(\"-\")[2]]\n",
        "        if emotion not in observed_emotions:\n",
        "            answer += 1\n",
        "            continue\n",
        "        feature=extract_feature(file, mfcc=True, chroma=True, mel=True)\n",
        "        x.append(feature)\n",
        "        y.append([emotion,file_name])\n",
        "    return train_test_split(np.array(x), y, test_size=test_size, random_state=9)"
      ]
    },
    {
      "cell_type": "code",
      "execution_count": null,
      "metadata": {
        "colab": {
          "base_uri": "https://localhost:8080/"
        },
        "id": "xyDu84vy4dH4",
        "outputId": "642ad6de-24c9-4d4f-f2c5-cf1691b5d58c"
      },
      "outputs": [
        {
          "output_type": "stream",
          "name": "stdout",
          "text": [
            "(625, 180) (111, 180) (625, 2) (111, 2)\n",
            "(625,) (111,)\n",
            "03-01-03-02-01-01-01.wav\n",
            "03-01-07-02-02-01-08.wav\n",
            "03-01-06-01-01-02-09.wav\n",
            "03-01-06-01-02-02-19.wav\n",
            "03-01-02-01-01-02-02.wav\n",
            "03-01-03-02-01-02-20.wav\n",
            "03-01-06-02-02-01-05.wav\n",
            "03-01-06-01-01-02-02.wav\n",
            "03-01-06-02-02-01-04.wav\n",
            "03-01-03-02-01-01-11.wav\n",
            "03-01-07-01-02-02-07.wav\n",
            "03-01-03-01-01-02-11.wav\n",
            "03-01-07-01-02-02-06.wav\n",
            "03-01-03-02-01-01-06.wav\n",
            "03-01-02-01-02-01-01.wav\n",
            "03-01-02-01-02-02-21.wav\n",
            "03-01-02-01-01-02-15.wav\n",
            "03-01-07-01-01-01-17.wav\n",
            "03-01-02-01-01-02-13.wav\n",
            "03-01-03-02-02-01-22.wav\n",
            "03-01-02-02-02-02-02.wav\n",
            "03-01-02-01-01-01-12.wav\n",
            "03-01-07-01-02-02-15.wav\n",
            "03-01-07-02-01-02-24.wav\n",
            "03-01-06-01-02-01-18.wav\n",
            "03-01-02-01-01-02-18.wav\n",
            "03-01-03-02-02-02-04.wav\n",
            "03-01-06-01-01-02-04.wav\n",
            "03-01-07-02-02-01-22.wav\n",
            "03-01-03-02-02-02-24.wav\n",
            "03-01-02-02-01-02-24.wav\n",
            "03-01-07-01-02-02-22.wav\n",
            "03-01-02-02-01-01-10.wav\n",
            "03-01-06-01-01-02-19.wav\n",
            "03-01-02-01-01-02-12.wav\n",
            "03-01-07-01-02-01-07.wav\n",
            "03-01-06-01-01-02-18.wav\n",
            "03-01-03-02-02-01-01.wav\n",
            "03-01-02-01-02-02-07.wav\n",
            "03-01-07-02-01-01-02.wav\n",
            "03-01-07-01-01-02-04.wav\n",
            "03-01-07-01-01-01-14.wav\n",
            "03-01-06-01-02-02-17.wav\n",
            "03-01-02-02-01-02-11.wav\n",
            "03-01-06-02-02-01-15.wav\n",
            "03-01-07-01-01-02-23.wav\n",
            "03-01-06-02-02-01-21.wav\n",
            "03-01-07-01-01-02-07.wav\n",
            "03-01-03-01-02-02-13.wav\n",
            "03-01-06-01-02-02-05.wav\n",
            "03-01-02-02-01-01-19.wav\n",
            "03-01-02-02-02-02-01.wav\n",
            "03-01-02-02-01-01-09.wav\n",
            "03-01-07-01-01-01-10.wav\n",
            "03-01-07-02-01-02-05.wav\n",
            "03-01-06-02-02-01-11.wav\n",
            "03-01-06-02-01-01-17.wav\n",
            "03-01-02-02-02-01-09.wav\n",
            "03-01-03-01-02-01-21.wav\n",
            "03-01-07-02-02-02-20.wav\n",
            "03-01-03-01-01-02-24.wav\n",
            "03-01-03-02-01-02-11.wav\n",
            "03-01-06-02-01-01-18.wav\n",
            "03-01-06-02-01-02-21.wav\n",
            "03-01-06-02-02-01-19.wav\n",
            "03-01-03-02-02-02-15.wav\n",
            "03-01-02-02-02-01-17.wav\n",
            "03-01-06-02-02-01-24.wav\n",
            "03-01-02-02-02-01-06.wav\n",
            "03-01-06-01-02-02-02.wav\n",
            "03-01-07-01-01-01-06.wav\n",
            "03-01-03-01-01-01-17.wav\n",
            "03-01-03-01-02-01-14.wav\n",
            "03-01-02-02-02-01-01.wav\n",
            "03-01-07-02-01-01-18.wav\n",
            "03-01-03-02-02-02-07.wav\n",
            "03-01-03-02-02-01-14.wav\n",
            "03-01-03-02-01-01-17.wav\n",
            "03-01-02-01-02-01-04.wav\n",
            "03-01-02-02-01-01-12.wav\n",
            "03-01-03-01-02-02-14.wav\n",
            "03-01-02-01-01-02-23.wav\n",
            "03-01-06-02-01-01-20.wav\n",
            "03-01-06-02-01-01-04.wav\n",
            "03-01-03-01-01-02-18.wav\n",
            "03-01-07-01-01-01-20.wav\n",
            "03-01-03-01-02-02-15.wav\n",
            "03-01-07-01-01-01-22.wav\n",
            "03-01-06-02-01-01-09.wav\n",
            "03-01-07-01-02-02-01.wav\n",
            "03-01-03-01-02-02-24.wav\n",
            "03-01-07-02-01-02-04.wav\n",
            "03-01-06-02-02-02-02.wav\n",
            "03-01-07-01-01-02-12.wav\n",
            "03-01-03-02-02-01-06.wav\n",
            "03-01-02-02-01-01-17.wav\n",
            "03-01-03-02-01-02-02.wav\n",
            "03-01-07-01-01-01-04.wav\n",
            "03-01-02-02-01-01-02.wav\n",
            "03-01-06-02-01-02-01.wav\n",
            "03-01-02-01-02-01-20.wav\n",
            "03-01-06-01-01-02-23.wav\n",
            "03-01-03-02-01-01-09.wav\n",
            "03-01-06-01-02-02-03.wav\n",
            "03-01-07-02-02-01-23.wav\n",
            "03-01-03-02-02-02-08.wav\n",
            "03-01-06-02-01-01-24.wav\n",
            "03-01-02-01-02-02-09.wav\n",
            "03-01-06-01-02-01-17.wav\n",
            "03-01-03-02-01-02-12.wav\n",
            "03-01-06-02-01-01-05.wav\n"
          ]
        }
      ],
      "source": [
        "#Split the dataset\n",
        "import librosa\n",
        "import numpy as np\n",
        "x_train,x_test,y_trai,y_tes=load_data(test_size=0.15)\n",
        "print(np.shape(x_train),np.shape(x_test), np.shape(y_trai),np.shape(y_tes))\n",
        "y_test_map = np.array(y_tes).T\n",
        "y_test = y_test_map[0]\n",
        "test_filename = y_test_map[1]\n",
        "y_train_map = np.array(y_trai).T\n",
        "y_train = y_train_map[0]\n",
        "train_filename = y_train_map[1]\n",
        "print(np.shape(y_train),np.shape(y_test))\n",
        "print(*test_filename,sep=\"\\n\")"
      ]
    },
    {
      "cell_type": "code",
      "source": [
        "print(len(x_train))"
      ],
      "metadata": {
        "colab": {
          "base_uri": "https://localhost:8080/"
        },
        "id": "JtodDyCW-2aR",
        "outputId": "e2b8f624-0d0c-4eae-d2d4-d490559e523c"
      },
      "execution_count": null,
      "outputs": [
        {
          "output_type": "stream",
          "name": "stdout",
          "text": [
            "625\n"
          ]
        }
      ]
    },
    {
      "cell_type": "code",
      "execution_count": null,
      "metadata": {
        "colab": {
          "base_uri": "https://localhost:8080/"
        },
        "id": "BsoDGA7J4mZa",
        "outputId": "a18c134c-0594-46d4-8171-427204eee699"
      },
      "outputs": [
        {
          "output_type": "stream",
          "name": "stdout",
          "text": [
            "(array([-2.18390244e+02,  3.74150124e+01, -6.37748146e+01,  1.59183550e+01,\n",
            "       -3.00963478e+01, -2.30383816e+01, -3.12656689e+01, -3.57604637e+01,\n",
            "       -6.94720650e+00, -1.85371838e+01, -2.29447899e+01,  4.58464050e+00,\n",
            "       -1.06219997e+01,  1.83856697e+01, -1.74620962e+00,  1.41900511e+01,\n",
            "        1.45657692e+01,  6.09453678e+00,  2.49503469e+00,  1.11287193e+01,\n",
            "       -1.37202531e-01,  2.49402881e+00, -1.11175370e+00,  8.60968173e-01,\n",
            "       -5.15002680e+00,  1.56028700e+00, -6.00139713e+00,  2.58057666e+00,\n",
            "       -3.18782139e+00, -1.18974721e+00, -4.39024448e+00,  4.16844893e+00,\n",
            "       -4.86300278e+00,  4.64808512e+00, -3.14665651e+00,  2.77286553e+00,\n",
            "       -2.12462330e+00,  3.57387066e+00, -8.32439840e-01, -1.77118778e+00,\n",
            "        3.53982121e-01,  3.84131014e-01,  3.61878037e-01,  3.81937027e-01,\n",
            "        4.36897904e-01,  4.68189120e-01,  4.98520851e-01,  5.58137596e-01,\n",
            "        6.51815116e-01,  6.65794551e-01,  5.76719999e-01,  3.96059960e-01,\n",
            "        1.02497656e-02,  1.06592262e-02,  8.87317862e-03,  2.99618300e-03,\n",
            "        3.13997362e-03,  3.13628628e-03,  2.86965561e-03,  1.90590962e-03,\n",
            "        7.33072544e-03,  1.20879300e-02,  2.22253248e-01,  7.62131035e-01,\n",
            "        1.44755661e+00,  4.21787310e+00,  1.29723272e+01,  4.38457451e+01,\n",
            "        7.77869568e+01,  7.84829483e+01,  3.33741646e+01,  4.70061417e+01,\n",
            "        2.12443638e+01,  7.01366091e+00,  1.15532608e+01,  1.42941961e+01,\n",
            "        3.87057710e+00,  2.34101772e+00,  1.55882680e+00,  4.06473970e+00,\n",
            "        5.89241362e+00,  4.77463341e+00,  4.00052738e+00,  5.27779150e+00,\n",
            "        2.44365025e+00,  2.06331539e+00,  2.97029161e+00,  2.98045778e+00,\n",
            "        2.56309414e+00,  2.14118624e+00,  2.51886678e+00,  1.54074574e+00,\n",
            "        2.97558880e+00,  3.12864804e+00,  3.10266328e+00,  4.73511696e+00,\n",
            "        3.14096689e+00,  1.82591927e+00,  7.42143059e+00,  7.17026281e+00,\n",
            "        1.95514977e+00,  1.26301050e+00,  1.86893058e+00,  1.14623749e+00,\n",
            "        1.35901046e+00,  9.60216904e+00,  7.02851057e+00,  3.26665926e+00,\n",
            "        4.09570408e+00,  2.12079525e+00,  1.19269466e+00,  8.74661326e-01,\n",
            "        9.29452479e-01,  1.28811777e+00,  3.06848860e+00,  3.75306439e+00,\n",
            "        3.91014099e+00,  2.06513333e+00,  6.03133154e+00,  1.32985029e+01,\n",
            "        1.05290318e+01,  5.90940237e-01,  4.09749091e-01,  5.48074007e-01,\n",
            "        1.18686950e+00,  4.51936841e-01,  3.50879878e-01,  3.77022207e-01,\n",
            "        3.89551997e-01,  2.60427892e-01,  2.95634776e-01,  5.46384394e-01,\n",
            "        9.00147438e-01,  5.77667773e-01,  5.64569533e-01,  5.37614584e-01,\n",
            "        5.05918562e-01,  3.89169276e-01,  2.46032715e-01,  1.39653519e-01,\n",
            "        1.09261736e-01,  1.53737605e-01,  4.06843603e-01,  8.77864659e-01,\n",
            "        1.26587546e+00,  9.79272008e-01,  1.01779795e+00,  1.80359030e+00,\n",
            "        1.14118946e+00,  8.03421736e-01,  2.40165845e-01,  2.00354785e-01,\n",
            "        1.33699238e-01,  8.72738734e-02,  4.52419594e-02,  1.15285106e-02,\n",
            "        1.32311471e-02,  8.13360233e-03,  6.89922599e-03,  4.46383329e-03,\n",
            "        3.91529500e-03,  3.45063629e-03,  2.54740613e-03,  2.13070377e-03,\n",
            "        5.57113625e-03,  1.18931849e-02,  1.37865618e-02,  1.73230171e-02,\n",
            "        2.25424338e-02,  1.65955629e-02,  1.18858693e-02,  8.24347138e-03,\n",
            "        5.78892464e-03,  9.58666857e-03,  1.49739468e-02,  1.56865083e-02,\n",
            "        5.50511898e-03,  1.32985949e-03,  1.42834630e-04,  1.35438108e-06]), array([-3.71259216e+02,  8.67141190e+01, -2.13824272e+01,  1.02416582e+01,\n",
            "       -1.52968292e+01, -1.28021450e+01, -3.58550339e+01, -1.43678818e+01,\n",
            "       -3.38392105e+01,  3.40368843e+00, -2.35700912e+01,  3.43926954e+00,\n",
            "       -2.13880653e+01, -3.54600787e+00, -1.46946096e+01, -1.13146229e+01,\n",
            "       -8.70526314e+00, -8.15274525e+00, -1.57812786e+01, -3.48157740e+00,\n",
            "       -1.32552538e+01, -8.35275936e+00, -8.75351429e+00, -2.55740547e+00,\n",
            "       -1.84157097e+00,  8.51410866e+00, -1.50184882e+00, -1.26735687e-01,\n",
            "       -7.35859823e+00,  1.44697738e+00,  7.24586189e-01,  9.20174599e+00,\n",
            "        9.84987068e+00,  5.20341063e+00, -2.46031451e+00, -2.06085277e+00,\n",
            "       -1.05032957e+00,  3.89415979e+00, -2.39930600e-02,  1.91707611e+00,\n",
            "        5.29216886e-01,  4.88774002e-01,  5.94721794e-01,  5.68540931e-01,\n",
            "        5.23339808e-01,  5.62608242e-01,  5.83702147e-01,  6.53344214e-01,\n",
            "        5.56695282e-01,  4.94101942e-01,  5.45137048e-01,  6.31336868e-01,\n",
            "        3.59144542e-06,  6.91269233e-05,  1.98809823e-04,  7.07841013e-04,\n",
            "        2.62789917e-03,  3.19143794e-02,  1.47215515e-01,  2.89327204e-01,\n",
            "        3.28353256e-01,  4.70518947e-01,  5.05824983e-01,  1.11088380e-01,\n",
            "        2.83662733e-02,  4.04827669e-02,  4.81862240e-02,  3.08738530e-01,\n",
            "        4.61358607e-01,  1.31377146e-01,  8.90889689e-02,  2.17510223e-01,\n",
            "        4.05910820e-01,  4.39782709e-01,  1.83636457e-01,  2.71763474e-01,\n",
            "        6.41010880e-01,  1.98319018e-01,  6.74027205e-02,  5.43289855e-02,\n",
            "        1.35186076e-01,  1.86779484e-01,  5.71917355e-01,  2.69212812e-01,\n",
            "        1.09715231e-01,  4.55674082e-02,  8.17766972e-03,  9.78122000e-03,\n",
            "        2.43528690e-02,  3.08986511e-02,  4.62474413e-02,  6.69978335e-02,\n",
            "        1.30517751e-01,  1.27443343e-01,  2.38016099e-02,  8.18747561e-03,\n",
            "        4.79644490e-03,  4.89020254e-03,  1.82367694e-02,  1.09732449e-01,\n",
            "        1.84141830e-01,  2.32099965e-01,  2.02935204e-01,  3.49629186e-02,\n",
            "        1.33609008e-02,  1.18919564e-02,  2.88360231e-02,  3.51469778e-02,\n",
            "        1.64755359e-02,  5.96297625e-03,  4.06902190e-03,  4.37184935e-03,\n",
            "        2.54819300e-02,  4.01936620e-02,  4.82522789e-03,  4.87860711e-03,\n",
            "        8.57798941e-03,  6.14044163e-03,  4.22224961e-03,  1.68450724e-03,\n",
            "        2.73595774e-03,  4.29976359e-03,  4.74125519e-03,  5.65485470e-03,\n",
            "        3.51198344e-03,  3.20133031e-03,  2.82682781e-03,  1.99360773e-03,\n",
            "        3.18569480e-03,  6.88895583e-03,  8.50884710e-03,  2.92932545e-03,\n",
            "        3.41843022e-03,  3.19978222e-03,  2.13368121e-03,  1.65100594e-03,\n",
            "        8.14611849e-04,  1.05083745e-03,  1.09233684e-03,  7.67571910e-04,\n",
            "        5.55054750e-04,  1.13420747e-03,  1.25058799e-03,  7.24226004e-04,\n",
            "        1.01909018e-03,  7.71319203e-04,  1.36354018e-03,  2.59707985e-03,\n",
            "        1.69127109e-03,  1.67833432e-03,  9.81791527e-04,  3.81623948e-04,\n",
            "        3.80077487e-04,  3.32543248e-04,  4.23797872e-04,  5.23315335e-04,\n",
            "        5.93805569e-04,  1.05144270e-03,  7.51545071e-04,  8.85292189e-04,\n",
            "        7.86012446e-04,  8.58178828e-04,  8.00366339e-04,  8.59395892e-04,\n",
            "        6.62806968e-04,  6.25308137e-04,  4.17370378e-04,  3.77723103e-04,\n",
            "        3.92824732e-04,  4.66043275e-04,  3.78674042e-04,  2.29114841e-04,\n",
            "        2.44562572e-04,  2.94067460e-04,  1.75895009e-04,  1.29384251e-04,\n",
            "        7.20096650e-05,  2.02715764e-05,  1.02000331e-06,  2.38947369e-08]))\n",
            "(625, 111)\n",
            "Features extracted: 180\n"
          ]
        }
      ],
      "source": [
        "#Get the shape of the training and testing datasets\n",
        "# print((x_train.shape[0], x_test.shape[0]))\n",
        "print((x_train[0], x_test[0]))\n",
        "print((x_train.shape[0], x_test.shape[0]))\n",
        "#Get the number of features extracted\n",
        "print(f'Features extracted: {x_train.shape[1]}')"
      ]
    },
    {
      "cell_type": "code",
      "execution_count": null,
      "metadata": {
        "id": "v5frqcIB4tQ0"
      },
      "outputs": [],
      "source": [
        "# Initialize the Multi Layer Perceptron Classifier\n",
        "model=MLPClassifier(alpha=0.01, batch_size=256, epsilon=1e-08, hidden_layer_sizes=(300,), learning_rate='adaptive', max_iter=500)"
      ]
    },
    {
      "cell_type": "code",
      "execution_count": null,
      "metadata": {
        "colab": {
          "base_uri": "https://localhost:8080/"
        },
        "id": "wYdS-f4h4w-g",
        "outputId": "a91fb05a-1870-429d-ae60-af536e1ff5a7"
      },
      "outputs": [
        {
          "output_type": "execute_result",
          "data": {
            "text/plain": [
              "MLPClassifier(alpha=0.01, batch_size=256, hidden_layer_sizes=(300,),\n",
              "              learning_rate='adaptive', max_iter=500)"
            ]
          },
          "metadata": {},
          "execution_count": 11
        }
      ],
      "source": [
        "#Train the model\n",
        "model.fit(x_train,y_train)"
      ]
    },
    {
      "cell_type": "code",
      "execution_count": null,
      "metadata": {
        "colab": {
          "base_uri": "https://localhost:8080/"
        },
        "id": "FAUbAZG4RxPU",
        "outputId": "e8cc2211-4366-402f-d8bb-2f1f3f623d8f"
      },
      "outputs": [
        {
          "output_type": "execute_result",
          "data": {
            "text/plain": [
              "array(['happy', 'disgust', 'fearful', 'fearful', 'calm', 'happy', 'happy',\n",
              "       'happy', 'fearful', 'disgust', 'disgust', 'disgust', 'disgust',\n",
              "       'fearful', 'calm', 'calm', 'calm', 'disgust', 'calm', 'happy',\n",
              "       'calm', 'calm', 'disgust', 'disgust', 'fearful', 'calm', 'happy',\n",
              "       'fearful', 'disgust', 'happy', 'calm', 'disgust', 'calm',\n",
              "       'fearful', 'calm', 'disgust', 'fearful', 'happy', 'happy',\n",
              "       'disgust', 'disgust', 'fearful', 'fearful', 'calm', 'fearful',\n",
              "       'disgust', 'fearful', 'disgust', 'happy', 'fearful', 'fearful',\n",
              "       'calm', 'calm', 'disgust', 'disgust', 'disgust', 'disgust', 'calm',\n",
              "       'happy', 'disgust', 'happy', 'disgust', 'fearful', 'fearful',\n",
              "       'fearful', 'happy', 'calm', 'fearful', 'calm', 'fearful',\n",
              "       'disgust', 'happy', 'disgust', 'calm', 'disgust', 'fearful',\n",
              "       'happy', 'fearful', 'calm', 'calm', 'fearful', 'calm', 'fearful',\n",
              "       'fearful', 'happy', 'disgust', 'happy', 'disgust', 'disgust',\n",
              "       'disgust', 'happy', 'disgust', 'fearful', 'disgust', 'happy',\n",
              "       'calm', 'happy', 'disgust', 'calm', 'fearful', 'calm', 'fearful',\n",
              "       'happy', 'happy', 'fearful', 'happy', 'fearful', 'fearful',\n",
              "       'fearful', 'happy', 'happy'], dtype='<U7')"
            ]
          },
          "metadata": {},
          "execution_count": 12
        }
      ],
      "source": [
        "#predicting :\n",
        "y_pred=model.predict(x_test)\n",
        "y_pred"
      ]
    },
    {
      "cell_type": "code",
      "source": [
        "print(len(y_pred))"
      ],
      "metadata": {
        "colab": {
          "base_uri": "https://localhost:8080/"
        },
        "id": "HGVEIHZO9sQu",
        "outputId": "e2594c79-0740-47de-aaf4-f8cc058addd5"
      },
      "execution_count": null,
      "outputs": [
        {
          "output_type": "stream",
          "name": "stdout",
          "text": [
            "111\n"
          ]
        }
      ]
    },
    {
      "cell_type": "code",
      "execution_count": null,
      "metadata": {
        "colab": {
          "base_uri": "https://localhost:8080/"
        },
        "id": "gJhq6SdjR2Aq",
        "outputId": "4158e497-597e-4c47-c05a-96e93493c3d4"
      },
      "outputs": [
        {
          "output_type": "stream",
          "name": "stdout",
          "text": [
            "Accuracy: 81.98%\n"
          ]
        }
      ],
      "source": [
        "#Calculate the accuracy of our model\n",
        "accuracy=accuracy_score(y_true=y_test, y_pred=y_pred)\n",
        "\n",
        "#Print the accuracy\n",
        "print(\"Accuracy: {:.2f}%\".format(accuracy*100))"
      ]
    },
    {
      "cell_type": "code",
      "execution_count": null,
      "metadata": {
        "colab": {
          "base_uri": "https://localhost:8080/",
          "height": 676
        },
        "id": "YrKvwHUBSYbb",
        "outputId": "7029be33-ed7a-430e-e030-f8799700fa23"
      },
      "outputs": [
        {
          "output_type": "execute_result",
          "data": {
            "text/plain": [
              "     Actual Predicted\n",
              "0     happy     happy\n",
              "1   disgust   disgust\n",
              "2   fearful   fearful\n",
              "3   fearful   fearful\n",
              "4      calm      calm\n",
              "5     happy     happy\n",
              "6   fearful     happy\n",
              "7   fearful     happy\n",
              "8   fearful   fearful\n",
              "9     happy   disgust\n",
              "10  disgust   disgust\n",
              "11    happy   disgust\n",
              "12  disgust   disgust\n",
              "13    happy   fearful\n",
              "14     calm      calm\n",
              "15     calm      calm\n",
              "16     calm      calm\n",
              "17  disgust   disgust\n",
              "18     calm      calm\n",
              "19    happy     happy"
            ],
            "text/html": [
              "\n",
              "  <div id=\"df-6710d835-3a22-4eed-b651-22f25e2f8faa\">\n",
              "    <div class=\"colab-df-container\">\n",
              "      <div>\n",
              "<style scoped>\n",
              "    .dataframe tbody tr th:only-of-type {\n",
              "        vertical-align: middle;\n",
              "    }\n",
              "\n",
              "    .dataframe tbody tr th {\n",
              "        vertical-align: top;\n",
              "    }\n",
              "\n",
              "    .dataframe thead th {\n",
              "        text-align: right;\n",
              "    }\n",
              "</style>\n",
              "<table border=\"1\" class=\"dataframe\">\n",
              "  <thead>\n",
              "    <tr style=\"text-align: right;\">\n",
              "      <th></th>\n",
              "      <th>Actual</th>\n",
              "      <th>Predicted</th>\n",
              "    </tr>\n",
              "  </thead>\n",
              "  <tbody>\n",
              "    <tr>\n",
              "      <th>0</th>\n",
              "      <td>happy</td>\n",
              "      <td>happy</td>\n",
              "    </tr>\n",
              "    <tr>\n",
              "      <th>1</th>\n",
              "      <td>disgust</td>\n",
              "      <td>disgust</td>\n",
              "    </tr>\n",
              "    <tr>\n",
              "      <th>2</th>\n",
              "      <td>fearful</td>\n",
              "      <td>fearful</td>\n",
              "    </tr>\n",
              "    <tr>\n",
              "      <th>3</th>\n",
              "      <td>fearful</td>\n",
              "      <td>fearful</td>\n",
              "    </tr>\n",
              "    <tr>\n",
              "      <th>4</th>\n",
              "      <td>calm</td>\n",
              "      <td>calm</td>\n",
              "    </tr>\n",
              "    <tr>\n",
              "      <th>5</th>\n",
              "      <td>happy</td>\n",
              "      <td>happy</td>\n",
              "    </tr>\n",
              "    <tr>\n",
              "      <th>6</th>\n",
              "      <td>fearful</td>\n",
              "      <td>happy</td>\n",
              "    </tr>\n",
              "    <tr>\n",
              "      <th>7</th>\n",
              "      <td>fearful</td>\n",
              "      <td>happy</td>\n",
              "    </tr>\n",
              "    <tr>\n",
              "      <th>8</th>\n",
              "      <td>fearful</td>\n",
              "      <td>fearful</td>\n",
              "    </tr>\n",
              "    <tr>\n",
              "      <th>9</th>\n",
              "      <td>happy</td>\n",
              "      <td>disgust</td>\n",
              "    </tr>\n",
              "    <tr>\n",
              "      <th>10</th>\n",
              "      <td>disgust</td>\n",
              "      <td>disgust</td>\n",
              "    </tr>\n",
              "    <tr>\n",
              "      <th>11</th>\n",
              "      <td>happy</td>\n",
              "      <td>disgust</td>\n",
              "    </tr>\n",
              "    <tr>\n",
              "      <th>12</th>\n",
              "      <td>disgust</td>\n",
              "      <td>disgust</td>\n",
              "    </tr>\n",
              "    <tr>\n",
              "      <th>13</th>\n",
              "      <td>happy</td>\n",
              "      <td>fearful</td>\n",
              "    </tr>\n",
              "    <tr>\n",
              "      <th>14</th>\n",
              "      <td>calm</td>\n",
              "      <td>calm</td>\n",
              "    </tr>\n",
              "    <tr>\n",
              "      <th>15</th>\n",
              "      <td>calm</td>\n",
              "      <td>calm</td>\n",
              "    </tr>\n",
              "    <tr>\n",
              "      <th>16</th>\n",
              "      <td>calm</td>\n",
              "      <td>calm</td>\n",
              "    </tr>\n",
              "    <tr>\n",
              "      <th>17</th>\n",
              "      <td>disgust</td>\n",
              "      <td>disgust</td>\n",
              "    </tr>\n",
              "    <tr>\n",
              "      <th>18</th>\n",
              "      <td>calm</td>\n",
              "      <td>calm</td>\n",
              "    </tr>\n",
              "    <tr>\n",
              "      <th>19</th>\n",
              "      <td>happy</td>\n",
              "      <td>happy</td>\n",
              "    </tr>\n",
              "  </tbody>\n",
              "</table>\n",
              "</div>\n",
              "      <button class=\"colab-df-convert\" onclick=\"convertToInteractive('df-6710d835-3a22-4eed-b651-22f25e2f8faa')\"\n",
              "              title=\"Convert this dataframe to an interactive table.\"\n",
              "              style=\"display:none;\">\n",
              "        \n",
              "  <svg xmlns=\"http://www.w3.org/2000/svg\" height=\"24px\"viewBox=\"0 0 24 24\"\n",
              "       width=\"24px\">\n",
              "    <path d=\"M0 0h24v24H0V0z\" fill=\"none\"/>\n",
              "    <path d=\"M18.56 5.44l.94 2.06.94-2.06 2.06-.94-2.06-.94-.94-2.06-.94 2.06-2.06.94zm-11 1L8.5 8.5l.94-2.06 2.06-.94-2.06-.94L8.5 2.5l-.94 2.06-2.06.94zm10 10l.94 2.06.94-2.06 2.06-.94-2.06-.94-.94-2.06-.94 2.06-2.06.94z\"/><path d=\"M17.41 7.96l-1.37-1.37c-.4-.4-.92-.59-1.43-.59-.52 0-1.04.2-1.43.59L10.3 9.45l-7.72 7.72c-.78.78-.78 2.05 0 2.83L4 21.41c.39.39.9.59 1.41.59.51 0 1.02-.2 1.41-.59l7.78-7.78 2.81-2.81c.8-.78.8-2.07 0-2.86zM5.41 20L4 18.59l7.72-7.72 1.47 1.35L5.41 20z\"/>\n",
              "  </svg>\n",
              "      </button>\n",
              "      \n",
              "  <style>\n",
              "    .colab-df-container {\n",
              "      display:flex;\n",
              "      flex-wrap:wrap;\n",
              "      gap: 12px;\n",
              "    }\n",
              "\n",
              "    .colab-df-convert {\n",
              "      background-color: #E8F0FE;\n",
              "      border: none;\n",
              "      border-radius: 50%;\n",
              "      cursor: pointer;\n",
              "      display: none;\n",
              "      fill: #1967D2;\n",
              "      height: 32px;\n",
              "      padding: 0 0 0 0;\n",
              "      width: 32px;\n",
              "    }\n",
              "\n",
              "    .colab-df-convert:hover {\n",
              "      background-color: #E2EBFA;\n",
              "      box-shadow: 0px 1px 2px rgba(60, 64, 67, 0.3), 0px 1px 3px 1px rgba(60, 64, 67, 0.15);\n",
              "      fill: #174EA6;\n",
              "    }\n",
              "\n",
              "    [theme=dark] .colab-df-convert {\n",
              "      background-color: #3B4455;\n",
              "      fill: #D2E3FC;\n",
              "    }\n",
              "\n",
              "    [theme=dark] .colab-df-convert:hover {\n",
              "      background-color: #434B5C;\n",
              "      box-shadow: 0px 1px 3px 1px rgba(0, 0, 0, 0.15);\n",
              "      filter: drop-shadow(0px 1px 2px rgba(0, 0, 0, 0.3));\n",
              "      fill: #FFFFFF;\n",
              "    }\n",
              "  </style>\n",
              "\n",
              "      <script>\n",
              "        const buttonEl =\n",
              "          document.querySelector('#df-6710d835-3a22-4eed-b651-22f25e2f8faa button.colab-df-convert');\n",
              "        buttonEl.style.display =\n",
              "          google.colab.kernel.accessAllowed ? 'block' : 'none';\n",
              "\n",
              "        async function convertToInteractive(key) {\n",
              "          const element = document.querySelector('#df-6710d835-3a22-4eed-b651-22f25e2f8faa');\n",
              "          const dataTable =\n",
              "            await google.colab.kernel.invokeFunction('convertToInteractive',\n",
              "                                                     [key], {});\n",
              "          if (!dataTable) return;\n",
              "\n",
              "          const docLinkHtml = 'Like what you see? Visit the ' +\n",
              "            '<a target=\"_blank\" href=https://colab.research.google.com/notebooks/data_table.ipynb>data table notebook</a>'\n",
              "            + ' to learn more about interactive tables.';\n",
              "          element.innerHTML = '';\n",
              "          dataTable['output_type'] = 'display_data';\n",
              "          await google.colab.output.renderOutput(dataTable, element);\n",
              "          const docLink = document.createElement('div');\n",
              "          docLink.innerHTML = docLinkHtml;\n",
              "          element.appendChild(docLink);\n",
              "        }\n",
              "      </script>\n",
              "    </div>\n",
              "  </div>\n",
              "  "
            ]
          },
          "metadata": {},
          "execution_count": 15
        }
      ],
      "source": [
        "import pandas as pd\n",
        "df=pd.DataFrame({'Actual': y_test, 'Predicted':y_pred})\n",
        "df.head(20)"
      ]
    },
    {
      "cell_type": "code",
      "execution_count": null,
      "metadata": {
        "id": "BvIZH4HRSeMP"
      },
      "outputs": [],
      "source": [
        "import pickle\n",
        "# Writing different model files to file\n",
        "with open( 'modelForPrediction1.pkl', 'wb') as f:\n",
        "    pickle.dump(model,f)"
      ]
    },
    {
      "cell_type": "code",
      "execution_count": null,
      "metadata": {
        "colab": {
          "base_uri": "https://localhost:8080/"
        },
        "id": "hXf-Gd_ZSmH0",
        "outputId": "107bd2ae-11a2-44a5-b7df-cc22adea04af"
      },
      "outputs": [
        {
          "output_type": "execute_result",
          "data": {
            "text/plain": [
              "array(['calm'], dtype='<U7')"
            ]
          },
          "metadata": {},
          "execution_count": 18
        }
      ],
      "source": [
        "filename = 'modelForPrediction1.pkl'\n",
        "loaded_model = pickle.load(open(filename, 'rb')) # loading the model file from the storage\n",
        "\n",
        "feature=extract_feature(\"/content/03-01-01-01-02-01-15.wav\", mfcc=True, chroma=True, mel=True)\n",
        "\n",
        "feature=feature.reshape(1,-1)\n",
        "\n",
        "prediction=loaded_model.predict(feature)\n",
        "prediction"
      ]
    },
    {
      "cell_type": "markdown",
      "metadata": {
        "id": "Sj2WYvIZUn7G"
      },
      "source": [
        "HERE ONWARDS UWANTED"
      ]
    },
    {
      "cell_type": "code",
      "execution_count": null,
      "metadata": {
        "id": "b2d_cu_v41w-"
      },
      "outputs": [],
      "source": [
        "# #SAVING THE MODEL\n",
        "# import pickle\n",
        "# # Save the Modle to file in the current working directory\n",
        "# #For any new testing data other than the data in dataset\n",
        "\n",
        "# Pkl_Filename = \"Emotion_Voice_Detection_Model.sav\"  \n",
        "\n",
        "# with open(Pkl_Filename, 'wb') as file:  \n",
        "#     pickle.dump(model, file)"
      ]
    },
    {
      "cell_type": "code",
      "execution_count": null,
      "metadata": {
        "colab": {
          "base_uri": "https://localhost:8080/"
        },
        "id": "-paPDDjT48Fz",
        "outputId": "9bd3a7a1-516c-4de9-9d92-1af0565c7efd"
      },
      "outputs": [
        {
          "data": {
            "text/plain": [
              "MLPClassifier(alpha=0.01, batch_size=256, hidden_layer_sizes=(300,),\n",
              "              learning_rate='adaptive', max_iter=500)"
            ]
          },
          "execution_count": 32,
          "metadata": {},
          "output_type": "execute_result"
        }
      ],
      "source": [
        "# # Load the Model back from file\n",
        "# import pickle\n",
        "# with open(Pkl_Filename, 'rb') as file:  \n",
        "#     Emotion_Voice_Detection_Model = pickle.load(file)\n",
        "\n",
        "# Emotion_Voice_Detection_Model"
      ]
    },
    {
      "cell_type": "code",
      "execution_count": null,
      "metadata": {
        "colab": {
          "base_uri": "https://localhost:8080/"
        },
        "id": "c0hqO5wx5AC4",
        "outputId": "4bbed5ed-1c87-4415-8e41-e9a0798fbc5c"
      },
      "outputs": [
        {
          "data": {
            "text/plain": [
              "array(['happy', 'disgust', 'happy', 'happy', 'fearful', 'calm', 'calm',\n",
              "       'disgust', 'fearful', 'fearful', 'calm', 'disgust', 'calm',\n",
              "       'fearful', 'fearful', 'calm', 'calm', 'fearful', 'calm', 'happy',\n",
              "       'calm', 'happy', 'calm', 'happy', 'calm', 'disgust', 'happy',\n",
              "       'happy', 'fearful', 'fearful', 'fearful', 'happy', 'happy',\n",
              "       'happy', 'disgust', 'fearful', 'calm', 'calm', 'calm', 'fearful',\n",
              "       'disgust', 'fearful', 'fearful', 'fearful', 'fearful', 'happy',\n",
              "       'calm', 'happy', 'calm', 'happy', 'happy', 'fearful', 'disgust',\n",
              "       'fearful', 'happy', 'calm', 'disgust', 'calm', 'disgust',\n",
              "       'fearful', 'calm', 'happy', 'calm', 'fearful', 'disgust', 'calm',\n",
              "       'disgust', 'disgust', 'fearful', 'disgust', 'calm', 'calm', 'calm',\n",
              "       'disgust', 'disgust', 'calm', 'disgust', 'calm', 'happy', 'happy',\n",
              "       'disgust', 'calm', 'disgust', 'happy', 'fearful', 'fearful',\n",
              "       'disgust', 'calm', 'fearful', 'happy', 'fearful', 'disgust',\n",
              "       'calm', 'calm', 'calm', 'fearful', 'disgust', 'fearful', 'calm',\n",
              "       'fearful', 'fearful', 'fearful', 'disgust', 'fearful', 'fearful',\n",
              "       'fearful', 'happy', 'fearful', 'happy', 'calm', 'happy', 'disgust',\n",
              "       'calm', 'disgust', 'disgust', 'calm', 'fearful', 'calm', 'fearful',\n",
              "       'fearful', 'happy', 'fearful', 'happy', 'calm', 'calm', 'calm',\n",
              "       'happy', 'fearful', 'calm', 'fearful', 'calm', 'calm', 'fearful',\n",
              "       'happy', 'happy', 'calm', 'happy', 'fearful', 'disgust', 'disgust',\n",
              "       'calm', 'fearful', 'calm', 'fearful', 'calm', 'disgust', 'fearful',\n",
              "       'calm', 'fearful', 'fearful', 'calm', 'disgust', 'calm', 'disgust',\n",
              "       'fearful', 'calm', 'fearful', 'fearful', 'happy', 'disgust',\n",
              "       'calm', 'disgust', 'disgust', 'fearful', 'fearful', 'happy',\n",
              "       'fearful', 'calm', 'calm', 'disgust', 'happy', 'happy', 'fearful',\n",
              "       'calm', 'happy', 'calm', 'happy', 'calm', 'fearful', 'happy',\n",
              "       'calm', 'fearful', 'calm', 'happy'], dtype='<U7')"
            ]
          },
          "execution_count": 33,
          "metadata": {},
          "output_type": "execute_result"
        }
      ],
      "source": [
        "# #predicting :\n",
        "# y_pred=Emotion_Voice_Detection_Model.predict(x_test)\n",
        "# y_pred"
      ]
    },
    {
      "cell_type": "code",
      "execution_count": null,
      "metadata": {
        "colab": {
          "base_uri": "https://localhost:8080/"
        },
        "id": "wTFi6H1l5CoZ",
        "outputId": "9e544881-b771-4820-ea30-ef7a933a80c4"
      },
      "outputs": [
        {
          "name": "stdout",
          "output_type": "stream",
          "text": [
            "    predictions                file_names\n",
            "0         happy  03-01-06-02-01-01-05.wav\n",
            "1       disgust  03-01-06-01-01-02-14.wav\n",
            "2         happy  03-01-03-02-02-02-23.wav\n",
            "3         happy  03-01-03-02-02-02-08.wav\n",
            "4       fearful  03-01-06-02-01-01-24.wav\n",
            "..          ...                       ...\n",
            "179       happy  03-01-07-01-01-02-22.wav\n",
            "180        calm  03-01-02-02-01-02-18.wav\n",
            "181     fearful  03-01-06-02-02-01-02.wav\n",
            "182        calm  03-01-02-01-02-01-02.wav\n",
            "183       happy  03-01-03-02-02-01-14.wav\n",
            "\n",
            "[184 rows x 2 columns]\n"
          ]
        }
      ],
      "source": [
        "#Store the Prediction probabilities into CSV file \n",
        "# import numpy as np\n",
        "# import pandas as pd\n",
        "# y_pred1 = pd.DataFrame(y_pred, columns=['predictions'])\n",
        "# y_pred1['file_names'] = test_filename\n",
        "# print(y_pred1)\n",
        "# y_pred1.to_csv('predictionfinal.csv')"
      ]
    },
    {
      "cell_type": "markdown",
      "metadata": {
        "id": "44GnkBsQIav-"
      },
      "source": [
        "METHOD 1 to Record Audio"
      ]
    },
    {
      "cell_type": "markdown",
      "metadata": {
        "id": "Bhf9pbFEDZZ4"
      },
      "source": [
        "Different code to record audio beacuse cant record audio in collab by default got the code from from https://ricardodeazambuja.com/deep_learning/2019/03/09/audio_and_video_google_colab/"
      ]
    },
    {
      "cell_type": "code",
      "execution_count": null,
      "metadata": {
        "id": "avTzBs2WAm3g",
        "colab": {
          "base_uri": "https://localhost:8080/"
        },
        "outputId": "f9c64cbe-b138-4b75-a51a-a2d0e6bd7727"
      },
      "outputs": [
        {
          "output_type": "stream",
          "name": "stdout",
          "text": [
            "Looking in indexes: https://pypi.org/simple, https://us-python.pkg.dev/colab-wheels/public/simple/\n",
            "Collecting ffmpeg-python\n",
            "  Downloading ffmpeg_python-0.2.0-py3-none-any.whl (25 kB)\n",
            "Requirement already satisfied: future in /usr/local/lib/python3.8/dist-packages (from ffmpeg-python) (0.16.0)\n",
            "Installing collected packages: ffmpeg-python\n",
            "Successfully installed ffmpeg-python-0.2.0\n"
          ]
        }
      ],
      "source": [
        "!pip install ffmpeg-python"
      ]
    },
    {
      "cell_type": "code",
      "execution_count": null,
      "metadata": {
        "id": "MIDvauGPA7uE"
      },
      "outputs": [],
      "source": [
        "# \"\"\"\n",
        "# To write this piece of code I took inspiration/code from a lot of places.\n",
        "# It was late night, so I'm not sure how much I created or just copied o.O\n",
        "# Here are some of the possible references:\n",
        "# https://blog.addpipe.com/recording-audio-in-the-browser-using-pure-html5-and-minimal-javascript/\n",
        "# https://stackoverflow.com/a/18650249\n",
        "# https://hacks.mozilla.org/2014/06/easy-audio-capture-with-the-mediarecorder-api/\n",
        "# https://air.ghost.io/recording-to-an-audio-file-using-html5-and-js/\n",
        "# https://stackoverflow.com/a/49019356\n",
        "# \"\"\"\n",
        "# from IPython.display import HTML, Audio\n",
        "# from google.colab.output import eval_js\n",
        "# from base64 import b64decode\n",
        "# import numpy as np\n",
        "# from scipy.io.wavfile import read as wav_read\n",
        "# import io\n",
        "# import ffmpeg\n",
        "\n",
        "# AUDIO_HTML = \"\"\"\n",
        "# <script>\n",
        "# var my_div = document.createElement(\"DIV\");\n",
        "# var my_p = document.createElement(\"P\");\n",
        "# var my_btn = document.createElement(\"BUTTON\");\n",
        "# var t = document.createTextNode(\"Press to start recording\");\n",
        "\n",
        "# my_btn.appendChild(t);\n",
        "# //my_p.appendChild(my_btn);\n",
        "# my_div.appendChild(my_btn);\n",
        "# document.body.appendChild(my_div);\n",
        "\n",
        "# var base64data = 0;\n",
        "# var reader;\n",
        "# var recorder, gumStream;\n",
        "# var recordButton = my_btn;\n",
        "\n",
        "# var handleSuccess = function(stream) {\n",
        "#   gumStream = stream;\n",
        "#   var options = {\n",
        "#     //bitsPerSecond: 8000, //chrome seems to ignore, always 48k\n",
        "#     mimeType : 'audio/webm;codecs=opus'\n",
        "#     //mimeType : 'audio/webm;codecs=pcm'\n",
        "#   };            \n",
        "#   //recorder = new MediaRecorder(stream, options);\n",
        "#   recorder = new MediaRecorder(stream);\n",
        "#   recorder.ondataavailable = function(e) {            \n",
        "#     var url = URL.createObjectURL(e.data);\n",
        "#     var preview = document.createElement('audio');\n",
        "#     preview.controls = true;\n",
        "#     preview.src = url;\n",
        "#     document.body.appendChild(preview);\n",
        "\n",
        "#     reader = new FileReader();\n",
        "#     reader.readAsDataURL(e.data); \n",
        "#     reader.onloadend = function() {\n",
        "#       base64data = reader.result;\n",
        "#       //console.log(\"Inside FileReader:\" + base64data);\n",
        "#     }\n",
        "#   };\n",
        "#   recorder.start();\n",
        "#   };\n",
        "\n",
        "# recordButton.innerText = \"Recording... press to stop\";\n",
        "\n",
        "# navigator.mediaDevices.getUserMedia({audio: true}).then(handleSuccess);\n",
        "\n",
        "\n",
        "# function toggleRecording() {\n",
        "#   if (recorder && recorder.state == \"recording\") {\n",
        "#       recorder.stop();\n",
        "#       gumStream.getAudioTracks()[0].stop();\n",
        "#       recordButton.innerText = \"Saving the recording... pls wait!\"\n",
        "#   }\n",
        "# }\n",
        "\n",
        "# // https://stackoverflow.com/a/951057\n",
        "# function sleep(ms) {\n",
        "#   return new Promise(resolve => setTimeout(resolve, ms));\n",
        "# }\n",
        "\n",
        "# var data = new Promise(resolve=>{\n",
        "# //recordButton.addEventListener(\"click\", toggleRecording);\n",
        "# recordButton.onclick = ()=>{\n",
        "# toggleRecording()\n",
        "\n",
        "# sleep(2000).then(() => {\n",
        "#   // wait 2000ms for the data to be available...\n",
        "#   // ideally this should use something like await...\n",
        "#   //console.log(\"Inside data:\" + base64data)\n",
        "#   resolve(base64data.toString())\n",
        "\n",
        "# });\n",
        "\n",
        "# }\n",
        "# });\n",
        "      \n",
        "# </script>\n",
        "# \"\"\"\n",
        "\n",
        "# def get_audio():\n",
        "#   display(HTML(AUDIO_HTML))\n",
        "#   data = eval_js(\"data\")\n",
        "#   binary = b64decode(data.split(',')[1])\n",
        "  \n",
        "#   process = (ffmpeg\n",
        "#     .input('pipe:0')\n",
        "#     .output('pipe:1', format='wav')\n",
        "#     .run_async(pipe_stdin=True, pipe_stdout=True, pipe_stderr=True, quiet=True, overwrite_output=True)\n",
        "#   )\n",
        "#   output, err = process.communicate(input=binary)\n",
        "  \n",
        "#   riff_chunk_size = len(output) - 8\n",
        "#   # Break up the chunk size into four bytes, held in b.\n",
        "#   q = riff_chunk_size\n",
        "#   b = []\n",
        "#   for i in range(4):\n",
        "#       q, r = divmod(q, 256)\n",
        "#       b.append(r)\n",
        "\n",
        "#   # Replace bytes 4:8 in proc.stdout with the actual size of the RIFF chunk.\n",
        "#   riff = output[:4] + bytes(b) + output[8:]\n",
        "\n",
        "#   sr, audio = wav_read(io.BytesIO(riff))\n",
        "\n",
        "#   return audio, sr"
      ]
    },
    {
      "cell_type": "code",
      "execution_count": null,
      "metadata": {
        "id": "N_tFwhJ6BSIR",
        "colab": {
          "base_uri": "https://localhost:8080/",
          "height": 97
        },
        "outputId": "30e21963-42aa-47f2-c799-09dcf9f738c6"
      },
      "outputs": [
        {
          "output_type": "display_data",
          "data": {
            "text/plain": [
              "<IPython.core.display.HTML object>"
            ],
            "text/html": [
              "\n",
              "<script>\n",
              "var my_div = document.createElement(\"DIV\");\n",
              "var my_p = document.createElement(\"P\");\n",
              "var my_btn = document.createElement(\"BUTTON\");\n",
              "var t = document.createTextNode(\"Press to start recording\");\n",
              "\n",
              "my_btn.appendChild(t);\n",
              "//my_p.appendChild(my_btn);\n",
              "my_div.appendChild(my_btn);\n",
              "document.body.appendChild(my_div);\n",
              "\n",
              "var base64data = 0;\n",
              "var reader;\n",
              "var recorder, gumStream;\n",
              "var recordButton = my_btn;\n",
              "\n",
              "var handleSuccess = function(stream) {\n",
              "  gumStream = stream;\n",
              "  var options = {\n",
              "    //bitsPerSecond: 8000, //chrome seems to ignore, always 48k\n",
              "    mimeType : 'audio/webm;codecs=opus'\n",
              "    //mimeType : 'audio/webm;codecs=pcm'\n",
              "  };            \n",
              "  //recorder = new MediaRecorder(stream, options);\n",
              "  recorder = new MediaRecorder(stream);\n",
              "  recorder.ondataavailable = function(e) {            \n",
              "    var url = URL.createObjectURL(e.data);\n",
              "    var preview = document.createElement('audio');\n",
              "    preview.controls = true;\n",
              "    preview.src = url;\n",
              "    document.body.appendChild(preview);\n",
              "\n",
              "    reader = new FileReader();\n",
              "    reader.readAsDataURL(e.data); \n",
              "    reader.onloadend = function() {\n",
              "      base64data = reader.result;\n",
              "      //console.log(\"Inside FileReader:\" + base64data);\n",
              "    }\n",
              "  };\n",
              "  recorder.start();\n",
              "  };\n",
              "\n",
              "recordButton.innerText = \"Recording... press to stop\";\n",
              "\n",
              "navigator.mediaDevices.getUserMedia({audio: true}).then(handleSuccess);\n",
              "\n",
              "\n",
              "function toggleRecording() {\n",
              "  if (recorder && recorder.state == \"recording\") {\n",
              "      recorder.stop();\n",
              "      gumStream.getAudioTracks()[0].stop();\n",
              "      recordButton.innerText = \"Saving the recording... pls wait!\"\n",
              "  }\n",
              "}\n",
              "\n",
              "// https://stackoverflow.com/a/951057\n",
              "function sleep(ms) {\n",
              "  return new Promise(resolve => setTimeout(resolve, ms));\n",
              "}\n",
              "\n",
              "var data = new Promise(resolve=>{\n",
              "//recordButton.addEventListener(\"click\", toggleRecording);\n",
              "recordButton.onclick = ()=>{\n",
              "toggleRecording()\n",
              "\n",
              "sleep(2000).then(() => {\n",
              "  // wait 2000ms for the data to be available...\n",
              "  // ideally this should use something like await...\n",
              "  //console.log(\"Inside data:\" + base64data)\n",
              "  resolve(base64data.toString())\n",
              "\n",
              "});\n",
              "\n",
              "}\n",
              "});\n",
              "      \n",
              "</script>\n"
            ]
          },
          "metadata": {}
        }
      ],
      "source": [
        "Audio, sr = get_audio()"
      ]
    },
    {
      "cell_type": "markdown",
      "metadata": {
        "id": "Io-tUjCSIlaK"
      },
      "source": [
        "Method 2 Record Audio"
      ]
    },
    {
      "cell_type": "code",
      "execution_count": null,
      "metadata": {
        "id": "KnejtOhxIpaw"
      },
      "outputs": [],
      "source": [
        "# !pip install pydub"
      ]
    },
    {
      "cell_type": "code",
      "execution_count": null,
      "metadata": {
        "id": "I2jWUo-fIvMT"
      },
      "outputs": [],
      "source": [
        "# import ipywidgets as widgets\n",
        "# from IPython import display as disp\n",
        "# from IPython.display import display, Audio, clear_output\n",
        "# from google.colab import output\n",
        "# import base64\n",
        "# from pydub import AudioSegment\n",
        "# import io\n",
        "# import tempfile\n",
        "# import librosa"
      ]
    },
    {
      "cell_type": "code",
      "execution_count": null,
      "metadata": {
        "id": "7WorcgIaI2RL"
      },
      "outputs": [],
      "source": [
        "# #\n",
        "# # original code: https://github.com/magenta/ddsp/blob/master/ddsp/colab/colab_utils.py\n",
        "# #\n",
        "\n",
        "\n",
        "# # Copyright 2020 The DDSP Authors.\n",
        "# #\n",
        "# # Licensed under the Apache License, Version 2.0 (the \"License\");\n",
        "# # you may not use this file except in compliance with the License.\n",
        "# # You may obtain a copy of the License at\n",
        "# #\n",
        "# #     http://www.apache.org/licenses/LICENSE-2.0\n",
        "# #\n",
        "# # Unless required by applicable law or agreed to in writing, software\n",
        "# # distributed under the License is distributed on an \"AS IS\" BASIS,\n",
        "# # WITHOUT WARRANTIES OR CONDITIONS OF ANY KIND, either express or implied.\n",
        "# # See the License for the specific language governing permissions and\n",
        "# # limitations under the License.\n",
        "\n",
        "# def record_audio(seconds=3,\n",
        "#                  sample_rate=44100,\n",
        "#                  normalize_db=0.1):\n",
        "#     \"\"\"Record audio from the browser in colab using javascript.\n",
        "#     Based on: https://gist.github.com/korakot/c21c3476c024ad6d56d5f48b0bca92be\n",
        "#     Args:\n",
        "#       seconds: Number of seconds to record.\n",
        "#       sample_rate: Resample recorded audio to this sample rate.\n",
        "#       normalize_db: Normalize the audio to this many decibels. Set to None to skip\n",
        "#         normalization step.\n",
        "#     Returns:\n",
        "#       An array of the recorded audio at sample_rate.\n",
        "#     \"\"\"\n",
        "#     # Use Javascript to record audio.\n",
        "#     record_js_code = \"\"\"\n",
        "#       const sleep  = time => new Promise(resolve => setTimeout(resolve, time))\n",
        "#       const b2text = blob => new Promise(resolve => {\n",
        "#         const reader = new FileReader()\n",
        "#         reader.onloadend = e => resolve(e.srcElement.result)\n",
        "#         reader.readAsDataURL(blob)\n",
        "#       })\n",
        "#       var record = time => new Promise(async resolve => {\n",
        "#         stream = await navigator.mediaDevices.getUserMedia({ audio: true })\n",
        "#         recorder = new MediaRecorder(stream)\n",
        "#         chunks = []\n",
        "#         recorder.ondataavailable = e => chunks.push(e.data)\n",
        "#         recorder.start()\n",
        "#         await sleep(time)\n",
        "#         recorder.onstop = async ()=>{\n",
        "#           blob = new Blob(chunks)\n",
        "#           text = await b2text(blob)\n",
        "#           resolve(text)\n",
        "#         }\n",
        "#         recorder.stop()\n",
        "#       })\n",
        "#       \"\"\"\n",
        "#     print('Starting recording for {} seconds...'.format(seconds))\n",
        "#     display(disp.Javascript(record_js_code))\n",
        "#     audio_string = output.eval_js('record(%d)' % (seconds * 1000.0))\n",
        "#     print('Finished recording!')\n",
        "#     audio_bytes = base64.b64decode(audio_string.split(',')[1])\n",
        "#     return audio_bytes_to_np(audio_bytes,\n",
        "#                              sample_rate=sample_rate,\n",
        "#                              normalize_db=normalize_db)\n",
        "    \n",
        "# def audio_bytes_to_np(wav_data,\n",
        "#                       sample_rate=44100,\n",
        "#                       normalize_db=0.1):\n",
        "#     \"\"\"Convert audio file data (in bytes) into a numpy array.\n",
        "#     Saves to a tempfile and loads with librosa.\n",
        "#     Args:\n",
        "#       wav_data: A byte stream of audio data.\n",
        "#       sample_rate: Resample recorded audio to this sample rate.\n",
        "#       normalize_db: Normalize the audio to this many decibels. Set to None to skip\n",
        "#         normalization step.\n",
        "#     Returns:\n",
        "#       An array of the recorded audio at sample_rate.\n",
        "#     \"\"\"\n",
        "#     # Parse and normalize the audio.\n",
        "#     audio = AudioSegment.from_file(io.BytesIO(wav_data))\n",
        "#     audio.remove_dc_offset()\n",
        "#     if normalize_db is not None:\n",
        "#         audio.normalize(headroom=normalize_db)\n",
        "#     # Save to tempfile and load with librosa.\n",
        "#     with tempfile.NamedTemporaryFile(suffix='.wav') as temp_wav_file:\n",
        "#         fname = temp_wav_file.name\n",
        "#         audio.export(fname, format='wav')\n",
        "#         audio_np, unused_sr = librosa.load(fname, sr=sample_rate)\n",
        "#     return audio_np"
      ]
    },
    {
      "cell_type": "code",
      "execution_count": null,
      "metadata": {
        "id": "PAuJGyztqKQC"
      },
      "outputs": [],
      "source": [
        "# AAudio=record_audio()"
      ]
    },
    {
      "cell_type": "code",
      "execution_count": null,
      "metadata": {
        "id": "BbUA7UkYI6i9"
      },
      "outputs": [],
      "source": [
        "# #@title Record\n",
        "# #@markdown * Set recording time:\n",
        "\n",
        "# SAMPLE_RATE = 44100\n",
        "# record_seconds =   5#@param {type:\"number\", min:1, max:10, step:1}\n",
        "\n",
        "# def _record_audio(b):\n",
        "#   global audio\n",
        "#   clear_output()\n",
        "#   audio = record_audio(record_seconds, sample_rate=SAMPLE_RATE)\n",
        "#   display(Audio(audio, rate=SAMPLE_RATE))\n",
        "\n",
        "# button = widgets.Button(description=\"Start recording...\")\n",
        "# button.on_click(_record_audio)\n",
        "# display(button)"
      ]
    },
    {
      "cell_type": "markdown",
      "metadata": {
        "id": "8KlPabq4KBqh"
      },
      "source": [
        "Method 3"
      ]
    },
    {
      "cell_type": "code",
      "execution_count": null,
      "metadata": {
        "id": "UoKnpPOOJ_cF"
      },
      "outputs": [],
      "source": [
        "# from IPython.display import Javascript\n",
        "# from google.colab import output\n",
        "# from base64 import b64decode\n",
        "\n",
        "# RECORD = \"\"\"\n",
        "# const sleep  = time => new Promise(resolve => setTimeout(resolve, time))\n",
        "# const b2text = blob => new Promise(resolve => {\n",
        "#   const reader = new FileReader()\n",
        "#   reader.onloadend = e => resolve(e.srcElement.result)\n",
        "#   reader.readAsDataURL(blob)\n",
        "# })\n",
        "# var record = time => new Promise(async resolve => {\n",
        "#   stream = await navigator.mediaDevices.getUserMedia({ audio: true })\n",
        "#   recorder = new MediaRecorder(stream)\n",
        "#   chunks = []\n",
        "#   recorder.ondataavailable = e => chunks.push(e.data)\n",
        "#   recorder.start()\n",
        "#   await sleep(time)\n",
        "#   recorder.onstop = async ()=>{\n",
        "#     blob = new Blob(chunks)\n",
        "#     text = await b2text(blob)\n",
        "#     resolve(text)\n",
        "#   }\n",
        "#   recorder.stop()\n",
        "# })\n",
        "# \"\"\"\n",
        "\n",
        "# def record(sec=3):\n",
        "#   display(Javascript(RECORD))\n",
        "#   s = output.eval_js('record(%d)' % (sec*1000))\n",
        "#   b = b64decode(s.split(',')[1])\n",
        "#   with open('audio.wav','wb') as f:\n",
        "#     f.write(b)\n",
        "#   return 'audio.wav'  # or webm ?"
      ]
    },
    {
      "cell_type": "code",
      "execution_count": null,
      "metadata": {
        "colab": {
          "base_uri": "https://localhost:8080/",
          "height": 17
        },
        "id": "rvhMNia7FCXn",
        "outputId": "ebb8c46a-05c9-4770-8dba-34215a2bdb2f"
      },
      "outputs": [
        {
          "data": {
            "application/javascript": [
              "\n",
              "const sleep  = time => new Promise(resolve => setTimeout(resolve, time))\n",
              "const b2text = blob => new Promise(resolve => {\n",
              "  const reader = new FileReader()\n",
              "  reader.onloadend = e => resolve(e.srcElement.result)\n",
              "  reader.readAsDataURL(blob)\n",
              "})\n",
              "var record = time => new Promise(async resolve => {\n",
              "  stream = await navigator.mediaDevices.getUserMedia({ audio: true })\n",
              "  recorder = new MediaRecorder(stream)\n",
              "  chunks = []\n",
              "  recorder.ondataavailable = e => chunks.push(e.data)\n",
              "  recorder.start()\n",
              "  await sleep(time)\n",
              "  recorder.onstop = async ()=>{\n",
              "    blob = new Blob(chunks)\n",
              "    text = await b2text(blob)\n",
              "    resolve(text)\n",
              "  }\n",
              "  recorder.stop()\n",
              "})\n"
            ],
            "text/plain": [
              "<IPython.core.display.Javascript object>"
            ]
          },
          "metadata": {},
          "output_type": "display_data"
        }
      ],
      "source": [
        "# AAAudio=record()"
      ]
    },
    {
      "cell_type": "code",
      "execution_count": null,
      "metadata": {
        "id": "epb_YT4XWy2d"
      },
      "outputs": [],
      "source": [
        "# def format_audio_file(input_file, output_file):\n",
        "#     import wave\n",
        "#     import numpy as np\n",
        "\n",
        "#     with wave.open(input_file, 'rb') as wave_file:\n",
        "#         # Read the audio file\n",
        "#         params = wave_file.getparams()\n",
        "#         nchannels, sampwidth, framerate, nframes = params[:4]\n",
        "#         audio_data = wave_file.readframes(nframes)\n",
        "\n",
        "#         # Convert the audio data to a numpy array\n",
        "#         audio_array = np.frombuffer(audio_data, dtype=np.int16)\n",
        "\n",
        "#         # Normalize the audio data\n",
        "#         audio_array = audio_array / np.max(np.abs(audio_array))\n",
        "\n",
        "#         # Save the normalized audio data to a new file\n",
        "#         with wave.open(output_file, 'wb') as output_wave_file:\n",
        "#             output_wave_file.setnchannels(nchannels)\n",
        "#             output_wave_file.setsampwidth(sampwidth)\n",
        "#             output_wave_file.setframerate(framerate)\n",
        "#             output_wave_file.writeframes(audio_array.tobytes())\n"
      ]
    },
    {
      "cell_type": "code",
      "execution_count": null,
      "metadata": {
        "colab": {
          "base_uri": "https://localhost:8080/",
          "height": 345
        },
        "id": "LzglG6hsW0Gw",
        "outputId": "6ee14967-6aeb-4f3d-f09c-7ab1e1de0c10"
      },
      "outputs": [
        {
          "data": {
            "application/javascript": [
              "\n",
              "const sleep  = time => new Promise(resolve => setTimeout(resolve, time))\n",
              "const b2text = blob => new Promise(resolve => {\n",
              "  const reader = new FileReader()\n",
              "  reader.onloadend = e => resolve(e.srcElement.result)\n",
              "  reader.readAsDataURL(blob)\n",
              "})\n",
              "var record = time => new Promise(async resolve => {\n",
              "  stream = await navigator.mediaDevices.getUserMedia({ audio: true })\n",
              "  recorder = new MediaRecorder(stream)\n",
              "  chunks = []\n",
              "  recorder.ondataavailable = e => chunks.push(e.data)\n",
              "  recorder.start()\n",
              "  await sleep(time)\n",
              "  recorder.onstop = async ()=>{\n",
              "    blob = new Blob(chunks)\n",
              "    text = await b2text(blob)\n",
              "    resolve(text)\n",
              "  }\n",
              "  recorder.stop()\n",
              "})\n"
            ],
            "text/plain": [
              "<IPython.core.display.Javascript object>"
            ]
          },
          "metadata": {},
          "output_type": "display_data"
        },
        {
          "ename": "Error",
          "evalue": "ignored",
          "output_type": "error",
          "traceback": [
            "\u001b[0;31m---------------------------------------------------------------------------\u001b[0m",
            "\u001b[0;31mError\u001b[0m                                     Traceback (most recent call last)",
            "\u001b[0;32m<ipython-input-16-13b85cb2d8a1>\u001b[0m in \u001b[0;36m<module>\u001b[0;34m\u001b[0m\n\u001b[1;32m      1\u001b[0m \u001b[0minput_file\u001b[0m \u001b[0;34m=\u001b[0m \u001b[0mrecord\u001b[0m\u001b[0;34m(\u001b[0m\u001b[0;34m)\u001b[0m\u001b[0;34m\u001b[0m\u001b[0;34m\u001b[0m\u001b[0m\n\u001b[1;32m      2\u001b[0m \u001b[0moutput_file\u001b[0m \u001b[0;34m=\u001b[0m \u001b[0;34m'output10.wav'\u001b[0m\u001b[0;34m\u001b[0m\u001b[0;34m\u001b[0m\u001b[0m\n\u001b[0;32m----> 3\u001b[0;31m \u001b[0mformat_audio_file\u001b[0m\u001b[0;34m(\u001b[0m\u001b[0minput_file\u001b[0m\u001b[0;34m,\u001b[0m \u001b[0moutput_file\u001b[0m\u001b[0;34m)\u001b[0m\u001b[0;34m\u001b[0m\u001b[0;34m\u001b[0m\u001b[0m\n\u001b[0m",
            "\u001b[0;32m<ipython-input-12-e976c6e50cd8>\u001b[0m in \u001b[0;36mformat_audio_file\u001b[0;34m(input_file, output_file)\u001b[0m\n\u001b[1;32m      3\u001b[0m     \u001b[0;32mimport\u001b[0m \u001b[0mnumpy\u001b[0m \u001b[0;32mas\u001b[0m \u001b[0mnp\u001b[0m\u001b[0;34m\u001b[0m\u001b[0;34m\u001b[0m\u001b[0m\n\u001b[1;32m      4\u001b[0m \u001b[0;34m\u001b[0m\u001b[0m\n\u001b[0;32m----> 5\u001b[0;31m     \u001b[0;32mwith\u001b[0m \u001b[0mwave\u001b[0m\u001b[0;34m.\u001b[0m\u001b[0mopen\u001b[0m\u001b[0;34m(\u001b[0m\u001b[0minput_file\u001b[0m\u001b[0;34m,\u001b[0m \u001b[0;34m'rb'\u001b[0m\u001b[0;34m)\u001b[0m \u001b[0;32mas\u001b[0m \u001b[0mwave_file\u001b[0m\u001b[0;34m:\u001b[0m\u001b[0;34m\u001b[0m\u001b[0;34m\u001b[0m\u001b[0m\n\u001b[0m\u001b[1;32m      6\u001b[0m         \u001b[0;31m# Read the audio file\u001b[0m\u001b[0;34m\u001b[0m\u001b[0;34m\u001b[0m\u001b[0;34m\u001b[0m\u001b[0m\n\u001b[1;32m      7\u001b[0m         \u001b[0mparams\u001b[0m \u001b[0;34m=\u001b[0m \u001b[0mwave_file\u001b[0m\u001b[0;34m.\u001b[0m\u001b[0mgetparams\u001b[0m\u001b[0;34m(\u001b[0m\u001b[0;34m)\u001b[0m\u001b[0;34m\u001b[0m\u001b[0;34m\u001b[0m\u001b[0m\n",
            "\u001b[0;32m/usr/lib/python3.8/wave.py\u001b[0m in \u001b[0;36mopen\u001b[0;34m(f, mode)\u001b[0m\n\u001b[1;32m    508\u001b[0m             \u001b[0mmode\u001b[0m \u001b[0;34m=\u001b[0m \u001b[0;34m'rb'\u001b[0m\u001b[0;34m\u001b[0m\u001b[0;34m\u001b[0m\u001b[0m\n\u001b[1;32m    509\u001b[0m     \u001b[0;32mif\u001b[0m \u001b[0mmode\u001b[0m \u001b[0;32min\u001b[0m \u001b[0;34m(\u001b[0m\u001b[0;34m'r'\u001b[0m\u001b[0;34m,\u001b[0m \u001b[0;34m'rb'\u001b[0m\u001b[0;34m)\u001b[0m\u001b[0;34m:\u001b[0m\u001b[0;34m\u001b[0m\u001b[0;34m\u001b[0m\u001b[0m\n\u001b[0;32m--> 510\u001b[0;31m         \u001b[0;32mreturn\u001b[0m \u001b[0mWave_read\u001b[0m\u001b[0;34m(\u001b[0m\u001b[0mf\u001b[0m\u001b[0;34m)\u001b[0m\u001b[0;34m\u001b[0m\u001b[0;34m\u001b[0m\u001b[0m\n\u001b[0m\u001b[1;32m    511\u001b[0m     \u001b[0;32melif\u001b[0m \u001b[0mmode\u001b[0m \u001b[0;32min\u001b[0m \u001b[0;34m(\u001b[0m\u001b[0;34m'w'\u001b[0m\u001b[0;34m,\u001b[0m \u001b[0;34m'wb'\u001b[0m\u001b[0;34m)\u001b[0m\u001b[0;34m:\u001b[0m\u001b[0;34m\u001b[0m\u001b[0;34m\u001b[0m\u001b[0m\n\u001b[1;32m    512\u001b[0m         \u001b[0;32mreturn\u001b[0m \u001b[0mWave_write\u001b[0m\u001b[0;34m(\u001b[0m\u001b[0mf\u001b[0m\u001b[0;34m)\u001b[0m\u001b[0;34m\u001b[0m\u001b[0;34m\u001b[0m\u001b[0m\n",
            "\u001b[0;32m/usr/lib/python3.8/wave.py\u001b[0m in \u001b[0;36m__init__\u001b[0;34m(self, f)\u001b[0m\n\u001b[1;32m    162\u001b[0m         \u001b[0;31m# else, assume it is an open file object already\u001b[0m\u001b[0;34m\u001b[0m\u001b[0;34m\u001b[0m\u001b[0;34m\u001b[0m\u001b[0m\n\u001b[1;32m    163\u001b[0m         \u001b[0;32mtry\u001b[0m\u001b[0;34m:\u001b[0m\u001b[0;34m\u001b[0m\u001b[0;34m\u001b[0m\u001b[0m\n\u001b[0;32m--> 164\u001b[0;31m             \u001b[0mself\u001b[0m\u001b[0;34m.\u001b[0m\u001b[0minitfp\u001b[0m\u001b[0;34m(\u001b[0m\u001b[0mf\u001b[0m\u001b[0;34m)\u001b[0m\u001b[0;34m\u001b[0m\u001b[0;34m\u001b[0m\u001b[0m\n\u001b[0m\u001b[1;32m    165\u001b[0m         \u001b[0;32mexcept\u001b[0m\u001b[0;34m:\u001b[0m\u001b[0;34m\u001b[0m\u001b[0;34m\u001b[0m\u001b[0m\n\u001b[1;32m    166\u001b[0m             \u001b[0;32mif\u001b[0m \u001b[0mself\u001b[0m\u001b[0;34m.\u001b[0m\u001b[0m_i_opened_the_file\u001b[0m\u001b[0;34m:\u001b[0m\u001b[0;34m\u001b[0m\u001b[0;34m\u001b[0m\u001b[0m\n",
            "\u001b[0;32m/usr/lib/python3.8/wave.py\u001b[0m in \u001b[0;36minitfp\u001b[0;34m(self, file)\u001b[0m\n\u001b[1;32m    129\u001b[0m         \u001b[0mself\u001b[0m\u001b[0;34m.\u001b[0m\u001b[0m_file\u001b[0m \u001b[0;34m=\u001b[0m \u001b[0mChunk\u001b[0m\u001b[0;34m(\u001b[0m\u001b[0mfile\u001b[0m\u001b[0;34m,\u001b[0m \u001b[0mbigendian\u001b[0m \u001b[0;34m=\u001b[0m \u001b[0;36m0\u001b[0m\u001b[0;34m)\u001b[0m\u001b[0;34m\u001b[0m\u001b[0;34m\u001b[0m\u001b[0m\n\u001b[1;32m    130\u001b[0m         \u001b[0;32mif\u001b[0m \u001b[0mself\u001b[0m\u001b[0;34m.\u001b[0m\u001b[0m_file\u001b[0m\u001b[0;34m.\u001b[0m\u001b[0mgetname\u001b[0m\u001b[0;34m(\u001b[0m\u001b[0;34m)\u001b[0m \u001b[0;34m!=\u001b[0m \u001b[0;34mb'RIFF'\u001b[0m\u001b[0;34m:\u001b[0m\u001b[0;34m\u001b[0m\u001b[0;34m\u001b[0m\u001b[0m\n\u001b[0;32m--> 131\u001b[0;31m             \u001b[0;32mraise\u001b[0m \u001b[0mError\u001b[0m\u001b[0;34m(\u001b[0m\u001b[0;34m'file does not start with RIFF id'\u001b[0m\u001b[0;34m)\u001b[0m\u001b[0;34m\u001b[0m\u001b[0;34m\u001b[0m\u001b[0m\n\u001b[0m\u001b[1;32m    132\u001b[0m         \u001b[0;32mif\u001b[0m \u001b[0mself\u001b[0m\u001b[0;34m.\u001b[0m\u001b[0m_file\u001b[0m\u001b[0;34m.\u001b[0m\u001b[0mread\u001b[0m\u001b[0;34m(\u001b[0m\u001b[0;36m4\u001b[0m\u001b[0;34m)\u001b[0m \u001b[0;34m!=\u001b[0m \u001b[0;34mb'WAVE'\u001b[0m\u001b[0;34m:\u001b[0m\u001b[0;34m\u001b[0m\u001b[0;34m\u001b[0m\u001b[0m\n\u001b[1;32m    133\u001b[0m             \u001b[0;32mraise\u001b[0m \u001b[0mError\u001b[0m\u001b[0;34m(\u001b[0m\u001b[0;34m'not a WAVE file'\u001b[0m\u001b[0;34m)\u001b[0m\u001b[0;34m\u001b[0m\u001b[0;34m\u001b[0m\u001b[0m\n",
            "\u001b[0;31mError\u001b[0m: file does not start with RIFF id"
          ]
        }
      ],
      "source": [
        "# input_file = record()\n",
        "# output_file = 'output10.wav'\n",
        "# format_audio_file(input_file, output_file)\n"
      ]
    },
    {
      "cell_type": "code",
      "execution_count": null,
      "metadata": {
        "colab": {
          "base_uri": "https://localhost:8080/"
        },
        "id": "FJu61Zs7PtNH",
        "outputId": "e047fd45-d07c-4cff-933b-cdbf5301acc7"
      },
      "outputs": [
        {
          "name": "stdout",
          "output_type": "stream",
          "text": [
            "Looking in indexes: https://pypi.org/simple, https://us-python.pkg.dev/colab-wheels/public/simple/\n",
            "Requirement already satisfied: ffmpeg-python in /usr/local/lib/python3.8/dist-packages (0.2.0)\n",
            "Requirement already satisfied: future in /usr/local/lib/python3.8/dist-packages (from ffmpeg-python) (0.16.0)\n",
            "Reading package lists... Done\n",
            "Building dependency tree       \n",
            "Reading state information... Done\n",
            "portaudio19-dev is already the newest version (19.6.0-1build1).\n",
            "The following package was automatically installed and is no longer required:\n",
            "  libnvidia-common-510\n",
            "Use 'sudo apt autoremove' to remove it.\n",
            "0 upgraded, 0 newly installed, 0 to remove and 28 not upgraded.\n",
            "Looking in indexes: https://pypi.org/simple, https://us-python.pkg.dev/colab-wheels/public/simple/\n",
            "Requirement already satisfied: pyaudio in /usr/local/lib/python3.8/dist-packages (0.2.13)\n"
          ]
        }
      ],
      "source": [
        "# !pip install ffmpeg-python\n",
        "# !sudo apt install portaudio19-dev\n",
        "# !pip install pyaudio\n",
        "# import pyaudio\n",
        "# import wave\n",
        "\n",
        "# def format_audio_file(input_file, output_file):\n",
        "#   # Open input audio file\n",
        "#   with wave.open(input_file, 'rb') as wave_file:\n",
        "#     # Get audio file parameters\n",
        "#     CHUNK = 1024\n",
        "#     FORMAT = pyaudio.get_sample_size(wave_file.getsampwidth())\n",
        "#     CHANNELS = wave_file.getnchannels()\n",
        "#     RATE = wave_file.getframerate()\n",
        "#     RECORD_SECONDS = wave_file.getnframes() / RATE\n",
        "#         # Open output audio file\n",
        "#     with wave.open(output_file, 'wb') as output_wave_file:\n",
        "#         output_wave_file.setnchannels(CHANNELS)\n",
        "#         output_wave_file.setsampwidth(FORMAT)\n",
        "#         output_wave_file.setframerate(RATE)\n",
        "        \n",
        "#         p = pyaudio.PyAudio()\n",
        "#         stream = p.open(format=FORMAT,\n",
        "#                         channels=CHANNELS,\n",
        "#                         rate=RATE,\n",
        "#                         input=True,\n",
        "#                         frames_per_buffer=CHUNK)\n",
        "\n",
        "#         # Write audio data to the output file\n",
        "#         for i in range(0, int(RATE / CHUNK * RECORD_SECONDS)):\n",
        "#             data = wave_file.readframes(CHUNK)\n",
        "#             output_wave_file.writeframes(data)\n",
        "\n",
        "#         stream.stop_stream()\n",
        "#         stream.close()\n",
        "#         p.terminate()\n",
        "\n"
      ]
    },
    {
      "cell_type": "code",
      "execution_count": null,
      "metadata": {
        "id": "3HgcbVBrSXBq"
      },
      "outputs": [],
      "source": [
        "# input_file = 'audio.wav'\n",
        "# output_file = 'output10.wav'\n",
        "# format_audio_file(input_file, output_file)"
      ]
    },
    {
      "cell_type": "code",
      "execution_count": null,
      "metadata": {
        "id": "1hNWeb055I7F"
      },
      "outputs": [],
      "source": [
        "# #RECORDED USING MICROPHONE:\n",
        "# !pip install ffmpeg-python\n",
        "# !sudo apt install portaudio19-dev\n",
        "# !pip install pyaudio\n",
        "# import pyaudio\n",
        "# import wave\n",
        "\n",
        "# CHUNK = 1024 \n",
        "# FORMAT = pyaudio.paInt16 #paInt8\n",
        "# CHANNELS = 2 \n",
        "# RATE = 44100 #sample rate\n",
        "# RECORD_SECONDS = 4\n",
        "# WAVE_OUTPUT_FILENAME = \"output10.wav\"\n",
        "\n",
        "# p = pyaudio.PyAudio()\n",
        "\n",
        "# stream = p.open(format=FORMAT,\n",
        "#                 channels=CHANNELS,\n",
        "#                 rate=RATE,\n",
        "#                 input=True,\n",
        "#                 frames_per_buffer=CHUNK) #buffer\n",
        "\n",
        "# print(\"* recording\")\n",
        "\n",
        "# frames = []\n",
        "\n",
        "# for i in range(0, int(RATE / CHUNK * RECORD_SECONDS)):\n",
        "#     data = stream.read(CHUNK)\n",
        "#     frames.append(data) # 2 bytes(16 bits) per channel\n",
        "\n",
        "# print(\"* done recording\")\n",
        "\n",
        "# stream.stop_stream()\n",
        "# stream.close()\n",
        "# p.terminate()\n",
        "\n",
        "# wf = wave.open(WAVE_OUTPUT_FILENAME, 'wb')\n",
        "# wf.setnchannels(CHANNELS)\n",
        "# wf.setsampwidth(p.get_sample_size(FORMAT))\n",
        "# wf.setframerate(RATE)\n",
        "# wf.writeframes(b''.join(frames))\n",
        "# wf.close()"
      ]
    },
    {
      "cell_type": "code",
      "execution_count": null,
      "metadata": {
        "id": "5A4OiaLYBMEN"
      },
      "outputs": [],
      "source": [
        "# import pyaudio\n",
        "# p = pyaudio.PyAudio()\n",
        "# info = p.get_host_api_info_by_index(0)\n",
        "# numdevices = info.get('deviceCount')\n",
        "# for i in range(0, numdevices):\n",
        "#         if (p.get_device_info_by_host_api_device_index(0, i).get('maxInputChannels')) > 0:\n",
        "#                 print(\"Input Device id \", i, \" - \", p.get_device_info_by_host_api_device_index(0, i).get('name'))\n"
      ]
    },
    {
      "cell_type": "code",
      "execution_count": null,
      "metadata": {
        "colab": {
          "base_uri": "https://localhost:8080/",
          "height": 386
        },
        "id": "HFrAgmtX9L-S",
        "outputId": "d90d9d5d-8e88-459b-e63c-ccc3a1b0c643"
      },
      "outputs": [
        {
          "name": "stderr",
          "output_type": "stream",
          "text": [
            "/usr/local/lib/python3.8/dist-packages/librosa/core/audio.py:165: UserWarning: PySoundFile failed. Trying audioread instead.\n",
            "  warnings.warn(\"PySoundFile failed. Trying audioread instead.\")\n"
          ]
        },
        {
          "data": {
            "text/plain": [
              "<matplotlib.collections.PolyCollection at 0x7f2916986a60>"
            ]
          },
          "execution_count": 85,
          "metadata": {},
          "output_type": "execute_result"
        },
        {
          "data": {
            "image/png": "[encoded data removed]",
            "text/plain": [
              "<Figure size 1080x360 with 1 Axes>"
            ]
          },
          "metadata": {},
          "output_type": "display_data"
        }
      ],
      "source": [
        "#The file 'output10.wav' in the next cell is the file that was recorded live using the code :\n",
        "data, sampling_rate = librosa.load(AAAudio)\n",
        "%matplotlib inline\n",
        "import os\n",
        "import pandas as pd\n",
        "import librosa.display\n",
        "import glob \n",
        "\n",
        "plt.figure(figsize=(15, 5))\n",
        "librosa.display.waveplot(data, sr=sampling_rate)"
      ]
    },
    {
      "cell_type": "code",
      "execution_count": null,
      "metadata": {
        "id": "-pkf-p4rvBHD"
      },
      "outputs": [],
      "source": [
        "import pyaudio\n",
        "import wave\n",
        "import numpy as np\n",
        "\n",
        "FORMAT = pyaudio.paInt16\n",
        "CHANNELS = 2\n",
        "RATE = 44100\n",
        "\n",
        "def convert_audio_format(input_file):\n",
        "    # Open the input file and get its properties\n",
        "    with wave.open(input_file, 'rb') as input_wave:\n",
        "        input_params = input_wave.getparams()\n",
        "\n",
        "        # Read the audio data\n",
        "        audio_data = input_wave.readframes(input_params[3])\n",
        "\n",
        "        # Convert the audio data to a numpy array\n",
        "        audio_data = np.frombuffer(audio_data, dtype=np.int16)\n",
        "\n",
        "        # Reshape the audio data to have the specified number of channels\n",
        "        audio_data = audio_data.reshape(-1, CHANNELS)\n",
        "\n",
        "        # Convert the audio data to the desired format and return it\n",
        "        return audio_data.tobytes()\n"
      ]
    },
    {
      "cell_type": "code",
      "execution_count": null,
      "metadata": {
        "colab": {
          "base_uri": "https://localhost:8080/",
          "height": 311
        },
        "id": "jwTqKMrxvENQ",
        "outputId": "02188699-6d84-4893-a27f-7166569c6e9b"
      },
      "outputs": [
        {
          "ename": "Error",
          "evalue": "ignored",
          "output_type": "error",
          "traceback": [
            "\u001b[0;31m---------------------------------------------------------------------------\u001b[0m",
            "\u001b[0;31mError\u001b[0m                                     Traceback (most recent call last)",
            "\u001b[0;32m<ipython-input-91-8413bcfd1bb7>\u001b[0m in \u001b[0;36m<module>\u001b[0;34m\u001b[0m\n\u001b[0;32m----> 1\u001b[0;31m \u001b[0mnew_ad\u001b[0m\u001b[0;34m=\u001b[0m\u001b[0mconvert_audio_format\u001b[0m\u001b[0;34m(\u001b[0m\u001b[0mAAAudio\u001b[0m\u001b[0;34m)\u001b[0m\u001b[0;34m\u001b[0m\u001b[0;34m\u001b[0m\u001b[0m\n\u001b[0m",
            "\u001b[0;32m<ipython-input-90-2a1c4a7a639d>\u001b[0m in \u001b[0;36mconvert_audio_format\u001b[0;34m(input_file)\u001b[0m\n\u001b[1;32m      9\u001b[0m \u001b[0;32mdef\u001b[0m \u001b[0mconvert_audio_format\u001b[0m\u001b[0;34m(\u001b[0m\u001b[0minput_file\u001b[0m\u001b[0;34m)\u001b[0m\u001b[0;34m:\u001b[0m\u001b[0;34m\u001b[0m\u001b[0;34m\u001b[0m\u001b[0m\n\u001b[1;32m     10\u001b[0m     \u001b[0;31m# Open the input file and get its properties\u001b[0m\u001b[0;34m\u001b[0m\u001b[0;34m\u001b[0m\u001b[0;34m\u001b[0m\u001b[0m\n\u001b[0;32m---> 11\u001b[0;31m     \u001b[0;32mwith\u001b[0m \u001b[0mwave\u001b[0m\u001b[0;34m.\u001b[0m\u001b[0mopen\u001b[0m\u001b[0;34m(\u001b[0m\u001b[0minput_file\u001b[0m\u001b[0;34m,\u001b[0m \u001b[0;34m'rb'\u001b[0m\u001b[0;34m)\u001b[0m \u001b[0;32mas\u001b[0m \u001b[0minput_wave\u001b[0m\u001b[0;34m:\u001b[0m\u001b[0;34m\u001b[0m\u001b[0;34m\u001b[0m\u001b[0m\n\u001b[0m\u001b[1;32m     12\u001b[0m         \u001b[0minput_params\u001b[0m \u001b[0;34m=\u001b[0m \u001b[0minput_wave\u001b[0m\u001b[0;34m.\u001b[0m\u001b[0mgetparams\u001b[0m\u001b[0;34m(\u001b[0m\u001b[0;34m)\u001b[0m\u001b[0;34m\u001b[0m\u001b[0;34m\u001b[0m\u001b[0m\n\u001b[1;32m     13\u001b[0m \u001b[0;34m\u001b[0m\u001b[0m\n",
            "\u001b[0;32m/usr/lib/python3.8/wave.py\u001b[0m in \u001b[0;36mopen\u001b[0;34m(f, mode)\u001b[0m\n\u001b[1;32m    508\u001b[0m             \u001b[0mmode\u001b[0m \u001b[0;34m=\u001b[0m \u001b[0;34m'rb'\u001b[0m\u001b[0;34m\u001b[0m\u001b[0;34m\u001b[0m\u001b[0m\n\u001b[1;32m    509\u001b[0m     \u001b[0;32mif\u001b[0m \u001b[0mmode\u001b[0m \u001b[0;32min\u001b[0m \u001b[0;34m(\u001b[0m\u001b[0;34m'r'\u001b[0m\u001b[0;34m,\u001b[0m \u001b[0;34m'rb'\u001b[0m\u001b[0;34m)\u001b[0m\u001b[0;34m:\u001b[0m\u001b[0;34m\u001b[0m\u001b[0;34m\u001b[0m\u001b[0m\n\u001b[0;32m--> 510\u001b[0;31m         \u001b[0;32mreturn\u001b[0m \u001b[0mWave_read\u001b[0m\u001b[0;34m(\u001b[0m\u001b[0mf\u001b[0m\u001b[0;34m)\u001b[0m\u001b[0;34m\u001b[0m\u001b[0;34m\u001b[0m\u001b[0m\n\u001b[0m\u001b[1;32m    511\u001b[0m     \u001b[0;32melif\u001b[0m \u001b[0mmode\u001b[0m \u001b[0;32min\u001b[0m \u001b[0;34m(\u001b[0m\u001b[0;34m'w'\u001b[0m\u001b[0;34m,\u001b[0m \u001b[0;34m'wb'\u001b[0m\u001b[0;34m)\u001b[0m\u001b[0;34m:\u001b[0m\u001b[0;34m\u001b[0m\u001b[0;34m\u001b[0m\u001b[0m\n\u001b[1;32m    512\u001b[0m         \u001b[0;32mreturn\u001b[0m \u001b[0mWave_write\u001b[0m\u001b[0;34m(\u001b[0m\u001b[0mf\u001b[0m\u001b[0;34m)\u001b[0m\u001b[0;34m\u001b[0m\u001b[0;34m\u001b[0m\u001b[0m\n",
            "\u001b[0;32m/usr/lib/python3.8/wave.py\u001b[0m in \u001b[0;36m__init__\u001b[0;34m(self, f)\u001b[0m\n\u001b[1;32m    162\u001b[0m         \u001b[0;31m# else, assume it is an open file object already\u001b[0m\u001b[0;34m\u001b[0m\u001b[0;34m\u001b[0m\u001b[0;34m\u001b[0m\u001b[0m\n\u001b[1;32m    163\u001b[0m         \u001b[0;32mtry\u001b[0m\u001b[0;34m:\u001b[0m\u001b[0;34m\u001b[0m\u001b[0;34m\u001b[0m\u001b[0m\n\u001b[0;32m--> 164\u001b[0;31m             \u001b[0mself\u001b[0m\u001b[0;34m.\u001b[0m\u001b[0minitfp\u001b[0m\u001b[0;34m(\u001b[0m\u001b[0mf\u001b[0m\u001b[0;34m)\u001b[0m\u001b[0;34m\u001b[0m\u001b[0;34m\u001b[0m\u001b[0m\n\u001b[0m\u001b[1;32m    165\u001b[0m         \u001b[0;32mexcept\u001b[0m\u001b[0;34m:\u001b[0m\u001b[0;34m\u001b[0m\u001b[0;34m\u001b[0m\u001b[0m\n\u001b[1;32m    166\u001b[0m             \u001b[0;32mif\u001b[0m \u001b[0mself\u001b[0m\u001b[0;34m.\u001b[0m\u001b[0m_i_opened_the_file\u001b[0m\u001b[0;34m:\u001b[0m\u001b[0;34m\u001b[0m\u001b[0;34m\u001b[0m\u001b[0m\n",
            "\u001b[0;32m/usr/lib/python3.8/wave.py\u001b[0m in \u001b[0;36minitfp\u001b[0;34m(self, file)\u001b[0m\n\u001b[1;32m    129\u001b[0m         \u001b[0mself\u001b[0m\u001b[0;34m.\u001b[0m\u001b[0m_file\u001b[0m \u001b[0;34m=\u001b[0m \u001b[0mChunk\u001b[0m\u001b[0;34m(\u001b[0m\u001b[0mfile\u001b[0m\u001b[0;34m,\u001b[0m \u001b[0mbigendian\u001b[0m \u001b[0;34m=\u001b[0m \u001b[0;36m0\u001b[0m\u001b[0;34m)\u001b[0m\u001b[0;34m\u001b[0m\u001b[0;34m\u001b[0m\u001b[0m\n\u001b[1;32m    130\u001b[0m         \u001b[0;32mif\u001b[0m \u001b[0mself\u001b[0m\u001b[0;34m.\u001b[0m\u001b[0m_file\u001b[0m\u001b[0;34m.\u001b[0m\u001b[0mgetname\u001b[0m\u001b[0;34m(\u001b[0m\u001b[0;34m)\u001b[0m \u001b[0;34m!=\u001b[0m \u001b[0;34mb'RIFF'\u001b[0m\u001b[0;34m:\u001b[0m\u001b[0;34m\u001b[0m\u001b[0;34m\u001b[0m\u001b[0m\n\u001b[0;32m--> 131\u001b[0;31m             \u001b[0;32mraise\u001b[0m \u001b[0mError\u001b[0m\u001b[0;34m(\u001b[0m\u001b[0;34m'file does not start with RIFF id'\u001b[0m\u001b[0;34m)\u001b[0m\u001b[0;34m\u001b[0m\u001b[0;34m\u001b[0m\u001b[0m\n\u001b[0m\u001b[1;32m    132\u001b[0m         \u001b[0;32mif\u001b[0m \u001b[0mself\u001b[0m\u001b[0;34m.\u001b[0m\u001b[0m_file\u001b[0m\u001b[0;34m.\u001b[0m\u001b[0mread\u001b[0m\u001b[0;34m(\u001b[0m\u001b[0;36m4\u001b[0m\u001b[0;34m)\u001b[0m \u001b[0;34m!=\u001b[0m \u001b[0;34mb'WAVE'\u001b[0m\u001b[0;34m:\u001b[0m\u001b[0;34m\u001b[0m\u001b[0;34m\u001b[0m\u001b[0m\n\u001b[1;32m    133\u001b[0m             \u001b[0;32mraise\u001b[0m \u001b[0mError\u001b[0m\u001b[0;34m(\u001b[0m\u001b[0;34m'not a WAVE file'\u001b[0m\u001b[0;34m)\u001b[0m\u001b[0;34m\u001b[0m\u001b[0;34m\u001b[0m\u001b[0m\n",
            "\u001b[0;31mError\u001b[0m: file does not start with RIFF id"
          ]
        }
      ],
      "source": [
        "new_ad=convert_audio_format(AAAudio)"
      ]
    },
    {
      "cell_type": "code",
      "execution_count": null,
      "metadata": {
        "id": "u9Sq6ZHhDgjy"
      },
      "outputs": [],
      "source": [
        "# import librosa\n",
        "# import numpy as np\n",
        "\n",
        "# def extract_feature(file_name, mfcc, chroma, mel):\n",
        "#     audio, sample_rate = librosa.load(file_name, res_type='kaiser_fast') \n",
        "#     if mfcc:\n",
        "#         mfccs = np.mean(librosa.feature.mfcc(y=audio, sr=sample_rate, n_mfcc=13), axis=0)\n",
        "#     if chroma:\n",
        "#         chroma = np.mean(librosa.feature.chroma_stft(y=audio, sr=sample_rate), axis=0)\n",
        "#     if mel:\n",
        "#         mel = np.mean(librosa.feature.melspectrogram(audio, sr=sample_rate), axis=0)\n",
        "    \n",
        "#     features = np.hstack([mfccs, chroma, mel])\n",
        "    \n",
        "#     return features, labels\n"
      ]
    },
    {
      "cell_type": "code",
      "execution_count": null,
      "metadata": {
        "colab": {
          "base_uri": "https://localhost:8080/",
          "height": 363
        },
        "id": "mD4znxr89Pvn",
        "outputId": "1cafb39c-8806-4a30-c4f8-01ddb1647734"
      },
      "outputs": [
        {
          "ename": "ValueError",
          "evalue": "ignored",
          "output_type": "error",
          "traceback": [
            "\u001b[0;31m---------------------------------------------------------------------------\u001b[0m",
            "\u001b[0;31mValueError\u001b[0m                                Traceback (most recent call last)",
            "\u001b[0;32m<ipython-input-36-689d19bea6b1>\u001b[0m in \u001b[0;36m<module>\u001b[0;34m\u001b[0m\n\u001b[1;32m     11\u001b[0m \u001b[0;31m# data.shape\u001b[0m\u001b[0;34m\u001b[0m\u001b[0;34m\u001b[0m\u001b[0;34m\u001b[0m\u001b[0m\n\u001b[1;32m     12\u001b[0m \u001b[0;34m\u001b[0m\u001b[0m\n\u001b[0;32m---> 13\u001b[0;31m \u001b[0mEmotion_Voice_Detection_Model\u001b[0m\u001b[0;34m.\u001b[0m\u001b[0mpredict\u001b[0m\u001b[0;34m(\u001b[0m\u001b[0;34m[\u001b[0m\u001b[0mans\u001b[0m\u001b[0;34m]\u001b[0m\u001b[0;34m)\u001b[0m\u001b[0;34m\u001b[0m\u001b[0;34m\u001b[0m\u001b[0m\n\u001b[0m",
            "\u001b[0;32m/usr/local/lib/python3.8/dist-packages/sklearn/neural_network/_multilayer_perceptron.py\u001b[0m in \u001b[0;36mpredict\u001b[0;34m(self, X)\u001b[0m\n\u001b[1;32m   1165\u001b[0m         \"\"\"\n\u001b[1;32m   1166\u001b[0m         \u001b[0mcheck_is_fitted\u001b[0m\u001b[0;34m(\u001b[0m\u001b[0mself\u001b[0m\u001b[0;34m)\u001b[0m\u001b[0;34m\u001b[0m\u001b[0;34m\u001b[0m\u001b[0m\n\u001b[0;32m-> 1167\u001b[0;31m         \u001b[0my_pred\u001b[0m \u001b[0;34m=\u001b[0m \u001b[0mself\u001b[0m\u001b[0;34m.\u001b[0m\u001b[0m_forward_pass_fast\u001b[0m\u001b[0;34m(\u001b[0m\u001b[0mX\u001b[0m\u001b[0;34m)\u001b[0m\u001b[0;34m\u001b[0m\u001b[0;34m\u001b[0m\u001b[0m\n\u001b[0m\u001b[1;32m   1168\u001b[0m \u001b[0;34m\u001b[0m\u001b[0m\n\u001b[1;32m   1169\u001b[0m         \u001b[0;32mif\u001b[0m \u001b[0mself\u001b[0m\u001b[0;34m.\u001b[0m\u001b[0mn_outputs_\u001b[0m \u001b[0;34m==\u001b[0m \u001b[0;36m1\u001b[0m\u001b[0;34m:\u001b[0m\u001b[0;34m\u001b[0m\u001b[0;34m\u001b[0m\u001b[0m\n",
            "\u001b[0;32m/usr/local/lib/python3.8/dist-packages/sklearn/neural_network/_multilayer_perceptron.py\u001b[0m in \u001b[0;36m_forward_pass_fast\u001b[0;34m(self, X)\u001b[0m\n\u001b[1;32m    157\u001b[0m             \u001b[0mThe\u001b[0m \u001b[0mdecision\u001b[0m \u001b[0mfunction\u001b[0m \u001b[0mof\u001b[0m \u001b[0mthe\u001b[0m \u001b[0msamples\u001b[0m \u001b[0;32mfor\u001b[0m \u001b[0meach\u001b[0m \u001b[0;32mclass\u001b[0m \u001b[0;32min\u001b[0m \u001b[0mthe\u001b[0m \u001b[0mmodel\u001b[0m\u001b[0;34m.\u001b[0m\u001b[0;34m\u001b[0m\u001b[0;34m\u001b[0m\u001b[0m\n\u001b[1;32m    158\u001b[0m         \"\"\"\n\u001b[0;32m--> 159\u001b[0;31m         \u001b[0mX\u001b[0m \u001b[0;34m=\u001b[0m \u001b[0mself\u001b[0m\u001b[0;34m.\u001b[0m\u001b[0m_validate_data\u001b[0m\u001b[0;34m(\u001b[0m\u001b[0mX\u001b[0m\u001b[0;34m,\u001b[0m \u001b[0maccept_sparse\u001b[0m\u001b[0;34m=\u001b[0m\u001b[0;34m[\u001b[0m\u001b[0;34m\"csr\"\u001b[0m\u001b[0;34m,\u001b[0m \u001b[0;34m\"csc\"\u001b[0m\u001b[0;34m]\u001b[0m\u001b[0;34m,\u001b[0m \u001b[0mreset\u001b[0m\u001b[0;34m=\u001b[0m\u001b[0;32mFalse\u001b[0m\u001b[0;34m)\u001b[0m\u001b[0;34m\u001b[0m\u001b[0;34m\u001b[0m\u001b[0m\n\u001b[0m\u001b[1;32m    160\u001b[0m \u001b[0;34m\u001b[0m\u001b[0m\n\u001b[1;32m    161\u001b[0m         \u001b[0;31m# Initialize first layer\u001b[0m\u001b[0;34m\u001b[0m\u001b[0;34m\u001b[0m\u001b[0;34m\u001b[0m\u001b[0m\n",
            "\u001b[0;32m/usr/local/lib/python3.8/dist-packages/sklearn/base.py\u001b[0m in \u001b[0;36m_validate_data\u001b[0;34m(self, X, y, reset, validate_separately, **check_params)\u001b[0m\n\u001b[1;32m    564\u001b[0m             \u001b[0;32mraise\u001b[0m \u001b[0mValueError\u001b[0m\u001b[0;34m(\u001b[0m\u001b[0;34m\"Validation should be done on X, y or both.\"\u001b[0m\u001b[0;34m)\u001b[0m\u001b[0;34m\u001b[0m\u001b[0;34m\u001b[0m\u001b[0m\n\u001b[1;32m    565\u001b[0m         \u001b[0;32melif\u001b[0m \u001b[0;32mnot\u001b[0m \u001b[0mno_val_X\u001b[0m \u001b[0;32mand\u001b[0m \u001b[0mno_val_y\u001b[0m\u001b[0;34m:\u001b[0m\u001b[0;34m\u001b[0m\u001b[0;34m\u001b[0m\u001b[0m\n\u001b[0;32m--> 566\u001b[0;31m             \u001b[0mX\u001b[0m \u001b[0;34m=\u001b[0m \u001b[0mcheck_array\u001b[0m\u001b[0;34m(\u001b[0m\u001b[0mX\u001b[0m\u001b[0;34m,\u001b[0m \u001b[0;34m**\u001b[0m\u001b[0mcheck_params\u001b[0m\u001b[0;34m)\u001b[0m\u001b[0;34m\u001b[0m\u001b[0;34m\u001b[0m\u001b[0m\n\u001b[0m\u001b[1;32m    567\u001b[0m             \u001b[0mout\u001b[0m \u001b[0;34m=\u001b[0m \u001b[0mX\u001b[0m\u001b[0;34m\u001b[0m\u001b[0;34m\u001b[0m\u001b[0m\n\u001b[1;32m    568\u001b[0m         \u001b[0;32melif\u001b[0m \u001b[0mno_val_X\u001b[0m \u001b[0;32mand\u001b[0m \u001b[0;32mnot\u001b[0m \u001b[0mno_val_y\u001b[0m\u001b[0;34m:\u001b[0m\u001b[0;34m\u001b[0m\u001b[0;34m\u001b[0m\u001b[0m\n",
            "\u001b[0;32m/usr/local/lib/python3.8/dist-packages/sklearn/utils/validation.py\u001b[0m in \u001b[0;36mcheck_array\u001b[0;34m(array, accept_sparse, accept_large_sparse, dtype, order, copy, force_all_finite, ensure_2d, allow_nd, ensure_min_samples, ensure_min_features, estimator)\u001b[0m\n\u001b[1;32m    792\u001b[0m                 ) from e\n\u001b[1;32m    793\u001b[0m         \u001b[0;32mif\u001b[0m \u001b[0;32mnot\u001b[0m \u001b[0mallow_nd\u001b[0m \u001b[0;32mand\u001b[0m \u001b[0marray\u001b[0m\u001b[0;34m.\u001b[0m\u001b[0mndim\u001b[0m \u001b[0;34m>=\u001b[0m \u001b[0;36m3\u001b[0m\u001b[0;34m:\u001b[0m\u001b[0;34m\u001b[0m\u001b[0;34m\u001b[0m\u001b[0m\n\u001b[0;32m--> 794\u001b[0;31m             raise ValueError(\n\u001b[0m\u001b[1;32m    795\u001b[0m                 \u001b[0;34m\"Found array with dim %d. %s expected <= 2.\"\u001b[0m\u001b[0;34m\u001b[0m\u001b[0;34m\u001b[0m\u001b[0m\n\u001b[1;32m    796\u001b[0m                 \u001b[0;34m%\u001b[0m \u001b[0;34m(\u001b[0m\u001b[0marray\u001b[0m\u001b[0;34m.\u001b[0m\u001b[0mndim\u001b[0m\u001b[0;34m,\u001b[0m \u001b[0mestimator_name\u001b[0m\u001b[0;34m)\u001b[0m\u001b[0;34m\u001b[0m\u001b[0;34m\u001b[0m\u001b[0m\n",
            "\u001b[0;31mValueError\u001b[0m: Found array with dim 4. Estimator expected <= 2."
          ]
        }
      ],
      "source": [
        "## Appying extract_feature function on random file and then loading model to predict the result \n",
        "file = '03-01-01-01-01-01-01.wav'\n",
        "# data , sr = librosa.load(file)\n",
        "# data = np.array(data)\n",
        "ans =[]\n",
        "# new_feature ,labels  = extract_feature(file, mfcc=True, chroma=True, mel=True)\n",
        "feature=extract_feature(\"03-01-01-01-01-01-01.wav\", mfcc=True, chroma=True, mel=True)\n",
        "feature=feature.reshape(1,-1)\n",
        "ans.append(feature)\n",
        "ans = np.array(ans)\n",
        "# data.shape\n",
        "\n",
        "Emotion_Voice_Detection_Model.predict([ans])"
      ]
    }
  ],
  "metadata": {
    "colab": {
      "provenance": [],
      "include_colab_link": true
    },
    "kernelspec": {
      "display_name": "Python 3",
      "name": "python3"
    },
    "language_info": {
      "name": "python"
    }
  },
  "nbformat": 4,
  "nbformat_minor": 0
}